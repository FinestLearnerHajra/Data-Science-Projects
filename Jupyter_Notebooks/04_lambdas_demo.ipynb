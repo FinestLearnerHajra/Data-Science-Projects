{
 "cells": [
  {
   "cell_type": "code",
   "execution_count": 1,
   "id": "17b4824e",
   "metadata": {},
   "outputs": [
    {
     "name": "stdout",
     "output_type": "stream",
     "text": [
      "6\n",
      "1\n"
     ]
    }
   ],
   "source": [
    "# 1-parameter lambda function example:\n",
    "succ = lambda x : x + 1\n",
    "\n",
    "print(succ(5))\n",
    "\n",
    "# equivalent regular (ordinary) function:\n",
    "def succ_long(x):\n",
    "    return x + 1\n",
    "\n",
    "print(succ_long(0))"
   ]
  },
  {
   "cell_type": "code",
   "execution_count": 2,
   "id": "fc1a3976",
   "metadata": {},
   "outputs": [
    {
     "name": "stdout",
     "output_type": "stream",
     "text": [
      "5\n",
      "5\n"
     ]
    }
   ],
   "source": [
    "# multi-parameter lambda function example:\n",
    "add = lambda x, y : x + y\n",
    "\n",
    "print(add(2,3))\n",
    "\n",
    "# equivalent regular (ordinary) function:\n",
    "def add_long(x, y):\n",
    "    return x + y\n",
    "\n",
    "print(add_long(2,3))"
   ]
  },
  {
   "cell_type": "code",
   "execution_count": 3,
   "id": "ec2f6de8",
   "metadata": {},
   "outputs": [
    {
     "name": "stdout",
     "output_type": "stream",
     "text": [
      "0\n",
      "1\n"
     ]
    }
   ],
   "source": [
    "# no parameter lambda function example:\n",
    "zero = lambda : 0\n",
    "\n",
    "print(zero())\n",
    "\n",
    "# equivalent regular (ordinary) function:\n",
    "def one():\n",
    "    return 1\n",
    "\n",
    "print(one())"
   ]
  },
  {
   "cell_type": "code",
   "execution_count": 4,
   "id": "f28e7e0d",
   "metadata": {},
   "outputs": [
    {
     "name": "stdout",
     "output_type": "stream",
     "text": [
      "15\n",
      "11\n",
      "5\n",
      "12\n"
     ]
    }
   ],
   "source": [
    "# lambda function definition with a default argument example:\n",
    "add_default = lambda x, y=10 : x + y\n",
    "\n",
    "print(add_default(5))\n",
    "print(add_default(5,6))\n",
    "\n",
    "# equivalent regular (ordinary) function:\n",
    "def add_default_long(x, y=10):\n",
    "    return x + y\n",
    "\n",
    "print(add_default_long(2, 3)) # prints 5\n",
    "print(add_default_long(2))    # prints 12"
   ]
  },
  {
   "cell_type": "code",
   "execution_count": 5,
   "id": "cdbf923e",
   "metadata": {},
   "outputs": [
    {
     "name": "stdout",
     "output_type": "stream",
     "text": [
      "(2, 4, 27)\n",
      "(2, 4, 27)\n"
     ]
    }
   ],
   "source": [
    "# lambda function definition returning more than one value:\n",
    "multi_expressions = lambda x, y, z : (x + 1, y * 2, z ** 3)\n",
    "\n",
    "print(multi_expressions(1, 2, 3))\n",
    "\n",
    "# equivalent regular (ordinary) function:\n",
    "def multi_expressions_long(x, y, z):\n",
    "    return (x + 1, y * 2, z ** 3)\n",
    "\n",
    "result = multi_expressions_long(1, 2, 3)\n",
    "print(result)  # prints (2, 4, 27)\n"
   ]
  },
  {
   "cell_type": "code",
   "execution_count": 6,
   "id": "47b6270e",
   "metadata": {},
   "outputs": [
    {
     "name": "stdout",
     "output_type": "stream",
     "text": [
      "2 4 27\n",
      "2 4 27\n"
     ]
    }
   ],
   "source": [
    "# the above lambda and regular functions return multiple values \n",
    "# within one tuple. A regular function can also return multiple \n",
    "# values as they are:\n",
    "def multi_expressions2(x, y, z):\n",
    "    return x + 1, y * 2, z ** 3\n",
    "\n",
    "a, b, c = multi_expressions2(1, 2, 3)\n",
    "print(a, b, c)  # prints 2 4 27\n",
    "\n",
    "# note that, even when a tuple is returned, it can still be assigned \n",
    "# to multiple variables:\n",
    "a, b, c = multi_expressions(1, 2, 3)\n",
    "print(a, b, c)"
   ]
  },
  {
   "cell_type": "code",
   "execution_count": 7,
   "id": "2e0692a0",
   "metadata": {},
   "outputs": [
    {
     "name": "stdout",
     "output_type": "stream",
     "text": [
      "3\n",
      "5\n",
      "1\n",
      "12\n",
      "5\n",
      "(2, 4, 27)\n",
      "(2, 10, 27)\n"
     ]
    }
   ],
   "source": [
    "# slides 9-14 - calling lambda functions\n",
    "# 2 ways:\n",
    "# 1) Assign a name to it and call it like an ordinary function\n",
    "#    => see examples above\n",
    "# 2) Immediately Invoked Function Expression - IIFE, pronounced 'iffy'\n",
    "# 2a) Surround the function and its argument with parentheses\n",
    "print((lambda x : x + 1)(2))             # returns 3\n",
    "print((lambda x, y : x + y)(2, 3))       # returns 5\n",
    "print((lambda : 1)())                    # returns 1\n",
    "print((lambda x, y = 10 : x + y)(2))     # returns 12\n",
    "print((lambda x, y = 10 : x + y)(2, 3))  # returns 5\n",
    "print((lambda x, y, z : (x + 1, y * 2, z ** 3))(1, 2, 3))  # returns (2, 4, 27)\n",
    "print((lambda x=1, y=2, z=3 : (x + 1, y * 2, z ** 3))(y=5))\n",
    "\n",
    "# 2b) IIFE - Invoke the last evaluated lambda function definition in\n",
    "#     the shell, by using _ with parentheses surrounding its argument(s)\n",
    "#     (can be done in the shell only)"
   ]
  },
  {
   "cell_type": "code",
   "execution_count": 8,
   "id": "679cbc01",
   "metadata": {},
   "outputs": [
    {
     "data": {
      "text/plain": [
       "6"
      ]
     },
     "execution_count": 8,
     "metadata": {},
     "output_type": "execute_result"
    }
   ],
   "source": [
    "# slides 15-27 - Appropriate use of lambda functions\n",
    "# high_order_function(par1, par2, ..., parn, function())\n",
    "\n",
    "# 1) Lambda function passed as argument to a (regular or lambda) higher order function\n",
    "# 1a) Lambda function passed as argument to a regular higher order function\n",
    "# regular higher order function definition:\n",
    "def regular_high_order_func(x, func):\n",
    "    return x + func(x)\n",
    "# lambda function passed as argument to a regular higher order function call:\n",
    "regular_high_order_func(2, lambda x : x * x)  # returns 6\n"
   ]
  },
  {
   "cell_type": "code",
   "execution_count": 9,
   "id": "db631ad9",
   "metadata": {},
   "outputs": [
    {
     "data": {
      "text/plain": [
       "6"
      ]
     },
     "execution_count": 9,
     "metadata": {},
     "output_type": "execute_result"
    }
   ],
   "source": [
    "# 1b) Lambda function passed as argument to a lambda higher order function\n",
    "# lambda higher order function definition\n",
    "lambda_high_order_func = lambda x, func : x + func(x)\n",
    "# lambda function passed as argument to a lambda higher order function call:\n",
    "lambda_high_order_func(2, lambda x : x * x)  # returns 6"
   ]
  },
  {
   "cell_type": "code",
   "execution_count": 10,
   "id": "1df84355",
   "metadata": {},
   "outputs": [
    {
     "data": {
      "text/plain": [
       "6"
      ]
     },
     "execution_count": 10,
     "metadata": {},
     "output_type": "execute_result"
    }
   ],
   "source": [
    "# Exactly the same as above, but applying the lambda directly\n",
    "# without assigning it to a variable\n",
    "\n",
    "(lambda x, func : x + func(x))(2, lambda x : x * x)\n"
   ]
  },
  {
   "cell_type": "code",
   "execution_count": 12,
   "id": "760305e4",
   "metadata": {},
   "outputs": [
    {
     "data": {
      "text/plain": [
       "6"
      ]
     },
     "execution_count": 12,
     "metadata": {},
     "output_type": "execute_result"
    }
   ],
   "source": [
    "# Note 1: the same could have been achieved with:\n",
    "(lambda x : x + x * x)(2)  # returns 6\n",
    "# but here we can't supply the function as argument at runtime"
   ]
  },
  {
   "cell_type": "code",
   "execution_count": 13,
   "id": "fae8cabf",
   "metadata": {},
   "outputs": [
    {
     "name": "stdout",
     "output_type": "stream",
     "text": [
      "6\n",
      "9\n",
      "27\n"
     ]
    }
   ],
   "source": [
    "# To illustrate the point, we can pass different functions to a ho function:\n",
    "function_application = lambda func, x : func(x)\n",
    "\n",
    "print(function_application(lambda x : x + x, 3))\n",
    "print(function_application(lambda x : x * x, 3))\n",
    "print(function_application(lambda x : x ** x, 3))"
   ]
  },
  {
   "cell_type": "code",
   "execution_count": 15,
   "id": "8beb964a",
   "metadata": {},
   "outputs": [
    {
     "name": "stdout",
     "output_type": "stream",
     "text": [
      "6\n"
     ]
    }
   ],
   "source": [
    "# Note 2: the function to be passed as argument can be defined \n",
    "# as an ordinary function:\n",
    "def regular_func(y):\n",
    "    return y * y\n",
    "\n",
    "lambda_high_order_func = lambda x, regular_func : x + regular_func(x)\n",
    "print(lambda_high_order_func(2, regular_func))  # returns 6\n"
   ]
  },
  {
   "cell_type": "code",
   "execution_count": 16,
   "id": "af5be9a2",
   "metadata": {},
   "outputs": [
    {
     "name": "stdout",
     "output_type": "stream",
     "text": [
      "4\n",
      "6\n"
     ]
    }
   ],
   "source": [
    "# side note: regular_func inside the lambda is not the same as that defined above:\n",
    "print(lambda_high_order_func(2, lambda x: x))\n",
    "\n",
    "lambda_high_order_func2 = lambda x, foo : x + regular_func(x)\n",
    "print(lambda_high_order_func2(2, lambda x: x-1))\n",
    "\n",
    "# it's not very useful to have a parameter and not use it\n",
    "# in the example, we are just trying to show that the scope \n",
    "# of regular_func has changed, compared to the previous example"
   ]
  },
  {
   "cell_type": "code",
   "execution_count": 17,
   "id": "ed5f201c",
   "metadata": {},
   "outputs": [
    {
     "name": "stdout",
     "output_type": "stream",
     "text": [
      "First name: Luca\t Last name: Fossati\n",
      "First name: Juan\t Last name: Flores\n"
     ]
    }
   ],
   "source": [
    "# What we have just seen is nothing new\n",
    "# It's pretty common to pass a variable as argument to a function\n",
    "# where the variable has the same name as the corresponding parameter\n",
    "def print_name(first, last):\n",
    "    print(\"First name: \" + first + \"\\t Last name: \" + last)\n",
    "    \n",
    "first = 'Luca'\n",
    "last  = 'Fossati'\n",
    "\n",
    "print_name(first, last)\n",
    "print_name('Juan', 'Flores')"
   ]
  },
  {
   "cell_type": "code",
   "execution_count": 18,
   "id": "6f0e6b4a",
   "metadata": {},
   "outputs": [
    {
     "data": {
      "text/plain": [
       "7"
      ]
     },
     "execution_count": 18,
     "metadata": {},
     "output_type": "execute_result"
    }
   ],
   "source": [
    "# The disadvantage of regular functions is that each one requires \n",
    "# its own definition: \n",
    "def regular_func(x):\n",
    "    return x + 3\n",
    "regular_high_order_func(2, regular_func)  # returns 7\n"
   ]
  },
  {
   "cell_type": "code",
   "execution_count": 19,
   "id": "63e0e813",
   "metadata": {},
   "outputs": [
    {
     "data": {
      "text/plain": [
       "7"
      ]
     },
     "execution_count": 19,
     "metadata": {},
     "output_type": "execute_result"
    }
   ],
   "source": [
    "# making this approach less flexible than the lambda approach\n",
    "lambda_high_order_func(2, lambda x : x + 3)  # returns 7\n",
    "\n",
    "# Passing a lambda function as argument to a higher order function allows\n",
    "# passing different functions ad hoc at runtime\n"
   ]
  },
  {
   "cell_type": "code",
   "execution_count": 24,
   "id": "fb5c9cd2",
   "metadata": {},
   "outputs": [
    {
     "name": "stdout",
     "output_type": "stream",
     "text": [
      "Type the first lambda function: 'hello'\n",
      "Type the second lambda function: lambda x : x\n"
     ]
    },
    {
     "ename": "TypeError",
     "evalue": "'str' object is not callable",
     "output_type": "error",
     "traceback": [
      "\u001b[1;31m---------------------------------------------------------------------------\u001b[0m",
      "\u001b[1;31mTypeError\u001b[0m                                 Traceback (most recent call last)",
      "\u001b[1;32m~\\AppData\\Local\\Temp/ipykernel_11580/1061742964.py\u001b[0m in \u001b[0;36m<module>\u001b[1;34m\u001b[0m\n\u001b[0;32m      4\u001b[0m \u001b[0mlambda_func\u001b[0m \u001b[1;33m=\u001b[0m \u001b[0minput\u001b[0m\u001b[1;33m(\u001b[0m\u001b[1;34m'Type the first lambda function: '\u001b[0m\u001b[1;33m)\u001b[0m\u001b[1;33m\u001b[0m\u001b[1;33m\u001b[0m\u001b[0m\n\u001b[0;32m      5\u001b[0m \u001b[0mlambda_func2\u001b[0m \u001b[1;33m=\u001b[0m \u001b[0minput\u001b[0m\u001b[1;33m(\u001b[0m\u001b[1;34m'Type the second lambda function: '\u001b[0m\u001b[1;33m)\u001b[0m\u001b[1;33m\u001b[0m\u001b[1;33m\u001b[0m\u001b[0m\n\u001b[1;32m----> 6\u001b[1;33m \u001b[0mprint\u001b[0m\u001b[1;33m(\u001b[0m\u001b[0mlambda_high_order_func\u001b[0m\u001b[1;33m(\u001b[0m\u001b[1;36m2\u001b[0m\u001b[1;33m,\u001b[0m \u001b[0meval\u001b[0m\u001b[1;33m(\u001b[0m\u001b[0mlambda_func\u001b[0m\u001b[1;33m)\u001b[0m\u001b[1;33m)\u001b[0m\u001b[1;33m)\u001b[0m\u001b[1;33m\u001b[0m\u001b[1;33m\u001b[0m\u001b[0m\n\u001b[0m\u001b[0;32m      7\u001b[0m \u001b[0mprint\u001b[0m\u001b[1;33m(\u001b[0m\u001b[0mlambda_high_order_func\u001b[0m\u001b[1;33m(\u001b[0m\u001b[1;36m2\u001b[0m\u001b[1;33m,\u001b[0m \u001b[0meval\u001b[0m\u001b[1;33m(\u001b[0m\u001b[0mlambda_func2\u001b[0m\u001b[1;33m)\u001b[0m\u001b[1;33m)\u001b[0m\u001b[1;33m)\u001b[0m\u001b[1;33m\u001b[0m\u001b[1;33m\u001b[0m\u001b[0m\n",
      "\u001b[1;32m~\\AppData\\Local\\Temp/ipykernel_11580/1061742964.py\u001b[0m in \u001b[0;36m<lambda>\u001b[1;34m(x, lambda_func)\u001b[0m\n\u001b[0;32m      1\u001b[0m \u001b[1;31m# To pass a function at runtime to a higher order function,\u001b[0m\u001b[1;33m\u001b[0m\u001b[1;33m\u001b[0m\u001b[1;33m\u001b[0m\u001b[0m\n\u001b[0;32m      2\u001b[0m \u001b[1;31m# define it as a string and use the eval() function to evaluate it:\u001b[0m\u001b[1;33m\u001b[0m\u001b[1;33m\u001b[0m\u001b[1;33m\u001b[0m\u001b[0m\n\u001b[1;32m----> 3\u001b[1;33m \u001b[0mlambda_high_order_func\u001b[0m \u001b[1;33m=\u001b[0m \u001b[1;32mlambda\u001b[0m \u001b[0mx\u001b[0m\u001b[1;33m,\u001b[0m \u001b[0mlambda_func\u001b[0m \u001b[1;33m:\u001b[0m \u001b[0mx\u001b[0m \u001b[1;33m+\u001b[0m \u001b[0mlambda_func\u001b[0m\u001b[1;33m(\u001b[0m\u001b[0mx\u001b[0m\u001b[1;33m)\u001b[0m\u001b[1;33m\u001b[0m\u001b[1;33m\u001b[0m\u001b[0m\n\u001b[0m\u001b[0;32m      4\u001b[0m \u001b[0mlambda_func\u001b[0m \u001b[1;33m=\u001b[0m \u001b[0minput\u001b[0m\u001b[1;33m(\u001b[0m\u001b[1;34m'Type the first lambda function: '\u001b[0m\u001b[1;33m)\u001b[0m\u001b[1;33m\u001b[0m\u001b[1;33m\u001b[0m\u001b[0m\n\u001b[0;32m      5\u001b[0m \u001b[0mlambda_func2\u001b[0m \u001b[1;33m=\u001b[0m \u001b[0minput\u001b[0m\u001b[1;33m(\u001b[0m\u001b[1;34m'Type the second lambda function: '\u001b[0m\u001b[1;33m)\u001b[0m\u001b[1;33m\u001b[0m\u001b[1;33m\u001b[0m\u001b[0m\n",
      "\u001b[1;31mTypeError\u001b[0m: 'str' object is not callable"
     ]
    }
   ],
   "source": [
    "# To pass a function at runtime to a higher order function, \n",
    "# define it as a string and use the eval() function to evaluate it:\n",
    "lambda_high_order_func = lambda x, lambda_func : x + lambda_func(x)\n",
    "lambda_func = input('Type the first lambda function: ')\n",
    "lambda_func2 = input('Type the second lambda function: ')\n",
    "print(lambda_high_order_func(2, eval(lambda_func)))\n",
    "print(lambda_high_order_func(2, eval(lambda_func2)))  "
   ]
  },
  {
   "cell_type": "code",
   "execution_count": 31,
   "id": "d758b623",
   "metadata": {},
   "outputs": [
    {
     "name": "stdout",
     "output_type": "stream",
     "text": [
      "Enter the value for the first parameter (variable x): 'java'\n",
      "Enter the lambda function definition: lambda x: x*10\n",
      "javajavajavajavajavajavajavajavajavajavajava\n"
     ]
    }
   ],
   "source": [
    "#x = int(input('Enter the value for the first parameter (variable x): '))\n",
    "\n",
    "# Here is an alternative way:\n",
    "x = eval(input('Enter the value for the first parameter (variable x): '))\n",
    "# It is more powerful than int() \n",
    "# To see that, try to pass in 2 + 2 in the first user input\n",
    "\n",
    "lambda_func = input('Enter the lambda function definition: ')\n",
    "print(lambda_high_order_func(x, eval(lambda_func)))"
   ]
  },
  {
   "cell_type": "code",
   "execution_count": 32,
   "id": "0879761e",
   "metadata": {},
   "outputs": [
    {
     "name": "stdout",
     "output_type": "stream",
     "text": [
      "20\n",
      "30\n"
     ]
    }
   ],
   "source": [
    "# 2) Lambda functions defined within custom-built higher order functions\n",
    "# 2a) A lambda function defined within a regular custom-built higher-order \n",
    "#     function\n",
    "def my_product(n):\n",
    "    return lambda a : a * n\n",
    "\n",
    "double = my_product(2)\n",
    "print(double(10))\n",
    "\n",
    "triple = my_product(3)\n",
    "print(triple(10))\n"
   ]
  },
  {
   "cell_type": "code",
   "execution_count": 33,
   "id": "7f0d03a6",
   "metadata": {},
   "outputs": [
    {
     "name": "stdout",
     "output_type": "stream",
     "text": [
      "20\n",
      "30\n"
     ]
    }
   ],
   "source": [
    "# Note: the same could have been achieved with just one call:\n",
    "print(my_product(2)(10))\n",
    "print(my_product(3)(10))\n",
    "# this technique is called partial function application\n",
    "# we apply the my_product function to one argument \n",
    "# this returns another function\n",
    "# then we apply the returned function to another argument\n",
    "# which yields the final result (the product of the two arguments)\n"
   ]
  },
  {
   "cell_type": "code",
   "execution_count": 34,
   "id": "6e8fa54f",
   "metadata": {},
   "outputs": [
    {
     "name": "stdout",
     "output_type": "stream",
     "text": [
      "20\n",
      "30\n"
     ]
    }
   ],
   "source": [
    "# 2b) A lambda function defined within a lambda custom-built higher-order \n",
    "# function\n",
    "my_product = lambda n : lambda a : a * n\n",
    "\n",
    "double = my_product(2)\n",
    "print(double(10))\n",
    "\n",
    "triple = my_product(3)\n",
    "print(triple(10))\n"
   ]
  },
  {
   "cell_type": "code",
   "execution_count": 36,
   "id": "7dd2a20c",
   "metadata": {},
   "outputs": [
    {
     "name": "stdout",
     "output_type": "stream",
     "text": [
      "0 1 4 9 16 25 36 49 64 81 \n",
      "<map object at 0x0000028CED4F69D0>\n",
      "<class 'map'>\n",
      "[0, 1, 4, 9, 16, 25, 36, 49, 64, 81]\n"
     ]
    }
   ],
   "source": [
    "# 3) Lambda functions passed as arguments to the built-in functions\n",
    "# 3a) Lambda function passed to the map() function\n",
    "\n",
    "# Example 1 - with map() and the lambda function with 1 parameter\n",
    "lst_numbers = [0, 1, 2, 3, 4, 5, 6, 7, 8, 9]\n",
    "for el in map(lambda n : n * n, lst_numbers):\n",
    "    print(el, end=' ')  # prints squared numbers from the above list\n",
    "\n",
    "print()\n",
    "print(map(lambda n : n * n, lst_numbers))   # map needs to be converted to list\n",
    "print(type(map(lambda n : n * n, lst_numbers)))\n",
    "\n",
    "# stores the list of squared numbers from the above list\n",
    "lst_squared = list(map(lambda n : n * n, lst_numbers))  \n",
    "print(lst_squared)"
   ]
  },
  {
   "cell_type": "code",
   "execution_count": 39,
   "id": "54583adb",
   "metadata": {},
   "outputs": [
    {
     "name": "stdout",
     "output_type": "stream",
     "text": [
      "[0, 1, 4, 9, 16, 25, 36, 49, 64, 81]\n"
     ]
    }
   ],
   "source": [
    "# Example 2 - with map() and the lambda function with 2 parameters\n",
    "# Option 1: fix one of the parameters and use map() with one iterable:\n",
    "lst_squared = list(map(lambda n, exp=2 : n ** exp, lst_numbers))\n",
    "print(lst_squared)\n",
    "\n",
    "# Note:\n",
    "# This is another example of partial function application.\n",
    "# Partial application refers to the process of setting some parameters\n",
    "# in a function, to produce another function with less parameters.\n",
    "# Above, the initial lambda function has 2 parameters: n and exp \n",
    "# We set exp=2, producing a lambda function of just one parameter: n.\n",
    "\n",
    "# The following won't work. Why?\n",
    "# list(map(lambda n, exp : n ** exp, lst_numbers))\n"
   ]
  },
  {
   "cell_type": "code",
   "execution_count": 42,
   "id": "fc16b3d3",
   "metadata": {},
   "outputs": [
    {
     "name": "stdout",
     "output_type": "stream",
     "text": [
      "[1, 32, 729]\n"
     ]
    }
   ],
   "source": [
    "# Option 2: use lambda with 2 parameters and map() with two iterables:\n",
    "list_1 = [1, 2, 3]\n",
    "list_2 = [4, 5, 6]\n",
    "# Try also:\n",
    "#list_1 = [1, 2, 3, 4]\n",
    "#list_2 = [4, 5, 6]\n",
    "# and this:\n",
    "#list_1 = [1, 2, 3]\n",
    "#list_2 = [4, 5, 6, 7]\n",
    "\n",
    "# stores [1, 32, 729]  ( 1 ** 4 = 1; 2 ** 5 = 32; 3 ** 6 = 729 )\n",
    "list_powered = list(map(lambda n, exp : n ** exp, list_1, list_2))  \n",
    "\n",
    "print(list_powered)\n",
    "\n"
   ]
  },
  {
   "cell_type": "code",
   "execution_count": 45,
   "id": "195ff394",
   "metadata": {},
   "outputs": [
    {
     "name": "stdout",
     "output_type": "stream",
     "text": [
      "-5 -3 -1 1 3 5 \n",
      "[-5, -3, -1, 1, 3, 5]\n",
      "[-4, -2, 0, 2, 4]\n"
     ]
    }
   ],
   "source": [
    "# 3b) Lambda function passed to the filter() function:\n",
    "lst_numbers = [-5, -4, -3, -2, -1, 0, 1, 2, 3, 4, 5]\n",
    "\n",
    "# to return all odd numbers from the given list\n",
    "# of numbers, use filter() within the loop:\n",
    "for el in filter(lambda n : n % 2 == 1, lst_numbers):\n",
    "    print(el, end=' ') \n",
    "\n",
    "print()\n",
    "# to store all odd numbers from the given list in a list\n",
    "# nest filter() within the list() function: \n",
    "lst_odd = list(filter(lambda n : n % 2 == 1, lst_numbers))  # stores [-5, -3, -1, 1, 3, 5]\n",
    "print(lst_odd)\n",
    "\n",
    "# printing evens\n",
    "print(list(filter(lambda n : n % 2 == 0, lst_numbers)))\n"
   ]
  },
  {
   "cell_type": "code",
   "execution_count": 47,
   "id": "0026e2b4",
   "metadata": {},
   "outputs": [
    {
     "name": "stdout",
     "output_type": "stream",
     "text": [
      "[-4, -2, 0, 2, 4]\n"
     ]
    }
   ],
   "source": [
    "# Note:\n",
    "# filter() can only accept two arguments: a function and an iterable,\n",
    "# where the function must have a single parameter and return a bool. \n",
    "\n",
    "# well, default parameters are ok\n",
    "print(list(filter(lambda n, inc=1 : (n+inc) % 2 == 1, lst_numbers)))\n",
    "\n",
    "# What we did earlier with map, doesn't work for filter:\n",
    "#lst_inc = [1, 0, -1, 0, 1, 0, -1, 0, 1, 0, -1]\n",
    "#print(list(filter(lambda n, inc : (n+inc) % 2 == 1, lst_numbers, lst_inc)))"
   ]
  },
  {
   "cell_type": "code",
   "execution_count": 50,
   "id": "c70dd5b4",
   "metadata": {},
   "outputs": [
    {
     "name": "stdout",
     "output_type": "stream",
     "text": [
      "10\n",
      "1234\n",
      "<class 'str'>\n",
      "[1, 2, 3, 4, 5, 6]\n"
     ]
    }
   ],
   "source": [
    "# 3c) Lambda function passed to the reduce() function from functools module\n",
    "from functools import reduce\n",
    "\n",
    "# adds numbers in the list together, returning 10 ((((1+2)+3)+4) \n",
    "print(reduce(lambda x, y: x + y, [1, 2, 3, 4]))\n",
    "  \n",
    "\n",
    "# applying the same function to a list of strings concatenates\n",
    "# list elements into a single string (returns '1234')\n",
    "print(reduce(lambda x, y: x + y, ['1', '2', '3', '4']))\n",
    "print(type(reduce(lambda x, y: x + y, ['1', '2', '3', '4'])))\n",
    "\n",
    "# returns [1, 2, 3, 4, 5, 6] ((([1]+[2, 3])+[])+[4, 5, 6]) \n",
    "print(reduce(lambda x, y: x + y, [[1], [2, 3], [], [4, 5, 6]]))\n",
    "\n",
    "# Having seen the above examples, can you guess which of the two arguments\n",
    "# of the lambda expression is the accumulator?\n",
    "\n",
    "# Try this:\n",
    "#print(reduce(lambda x, y: y + x, [[1], [2, 3], [], [4, 5, 6]]))\n"
   ]
  },
  {
   "cell_type": "code",
   "execution_count": 51,
   "id": "ee497c75",
   "metadata": {},
   "outputs": [
    {
     "name": "stdout",
     "output_type": "stream",
     "text": [
      "110\n",
      "Empty list\n",
      "7\n"
     ]
    }
   ],
   "source": [
    "# returns 110, as 100 serves as initial value to ((((1+2)+3)+4) \n",
    "print(reduce(lambda x, y: x + y, [1, 2, 3, 4], 100))\n",
    "  \n",
    "\n",
    "# returns 'Empty list', as the sequence is empty\n",
    "print(reduce(lambda x, y: x + y, [], \"Empty list\"))\n",
    "\n",
    "# count the number of elements in a list\n",
    "print(reduce(lambda x, y : x + 1, ['a', 'b', 'c', 'd', 'e', 'f', 'g'], 0))\n"
   ]
  },
  {
   "cell_type": "code",
   "execution_count": 52,
   "id": "0a3a8c41",
   "metadata": {
    "scrolled": true
   },
   "outputs": [
    {
     "name": "stdout",
     "output_type": "stream",
     "text": [
      "(0, 0)\n",
      "(3, 1)\n",
      "(8, 2)\n",
      "(10, 3)\n",
      "(4, 4)\n",
      "(14, 5)\n",
      "(17, 6)\n",
      "(21, 7)\n"
     ]
    }
   ],
   "source": [
    "# computing partial sums and counts progressively\n",
    "print(reduce(lambda x, y : (x[0] + y, x[1] + 1), [], (0,0)))\n",
    "print(reduce(lambda x, y : (x[0] + y, x[1] + 1), [3], (0,0)))\n",
    "print(reduce(lambda x, y : (x[0] + y, x[1] + 1), [3, 5], (0,0)))\n",
    "print(reduce(lambda x, y : (x[0] + y, x[1] + 1), [3, 5, 2], (0,0)))\n",
    "print(reduce(lambda x, y : (x[0] + y, x[1] + 1), [3, 5, 2, -6], (0,0)))\n",
    "print(reduce(lambda x, y : (x[0] + y, x[1] + 1), [3, 5, 2, -6, 10], (0,0)))\n",
    "print(reduce(lambda x, y : (x[0] + y, x[1] + 1), [3, 5, 2, -6, 10, 3], (0,0)))\n",
    "print(reduce(lambda x, y : (x[0] + y, x[1] + 1), [3, 5, 2, -6, 10, 3, 4], (0,0)))"
   ]
  },
  {
   "cell_type": "code",
   "execution_count": 53,
   "id": "52c58e2b",
   "metadata": {},
   "outputs": [
    {
     "name": "stdout",
     "output_type": "stream",
     "text": [
      "Help on built-in function reduce in module _functools:\n",
      "\n",
      "reduce(...)\n",
      "    reduce(function, sequence[, initial]) -> value\n",
      "    \n",
      "    Apply a function of two arguments cumulatively to the items of a sequence,\n",
      "    from left to right, so as to reduce the sequence to a single value.\n",
      "    For example, reduce(lambda x, y: x+y, [1, 2, 3, 4, 5]) calculates\n",
      "    ((((1+2)+3)+4)+5).  If initial is present, it is placed before the items\n",
      "    of the sequence in the calculation, and serves as a default when the\n",
      "    sequence is empty.\n",
      "\n"
     ]
    }
   ],
   "source": [
    "# the first arg of reduce must be an associative function\n",
    "# (it is applied 'from left to right')\n",
    "\n",
    "help(reduce)"
   ]
  },
  {
   "cell_type": "code",
   "execution_count": 56,
   "id": "200b5eb6",
   "metadata": {},
   "outputs": [
    {
     "name": "stdout",
     "output_type": "stream",
     "text": [
      "3.0\n",
      "3.0\n",
      "2.0\n",
      "20.0\n",
      "3.8125\n",
      "3.25\n"
     ]
    }
   ],
   "source": [
    "# computing the average\n",
    "sum_count = reduce(lambda x, y : (x[0] + y, x[1] + 1), [3, 5, 2, -6, 10, 3, 4], (0,0))\n",
    "print(sum_count[0]/sum_count[1])\n",
    "\n",
    "# simplified version\n",
    "nums = [3, 5, 2, -6, 10, 3, 4]\n",
    "summation = reduce(lambda x, y : x + y, nums, 0)\n",
    "print(summation / len(nums))\n",
    "\n",
    "\n",
    "\n",
    "# this doesn't work\n",
    "print(reduce(lambda x, y : (x+y)/2, [2, 2, 2, 2, 2, 2, 2]))\n",
    "print(reduce(lambda x, y : (x+y)/2, [20, 20, 20, 20, 20, 20, 20]))\n",
    "print(reduce(lambda x, y : (x+y)/2, nums))\n",
    "print(reduce(lambda x, y : (x+y)/2, [3, 6, 2]))\n"
   ]
  },
  {
   "cell_type": "code",
   "execution_count": 57,
   "id": "051eddbb",
   "metadata": {},
   "outputs": [
    {
     "name": "stdout",
     "output_type": "stream",
     "text": [
      "[(3, 3), (4, 2), (2, 2), (5, 2), (1, 7)]\n",
      "[(2, 2), (1, 7), (4, 2), (3, 3), (5, 2)]\n",
      "[(3, 3), (4, 2), (2, 2), (5, 2), (1, 7)]\n"
     ]
    }
   ],
   "source": [
    "# 4) Lambda functions passed as arguments to the key functions\n",
    "# 4a) example with sorted() function\n",
    "lst_dimensions = [(3, 3), (4, 2), (2, 2), (5, 2), (1, 7)]\n",
    "\n",
    "print(lst_dimensions)\n",
    "\n",
    "# sorts list based on result of applying lambda\n",
    "# in this case, it sorts by area\n",
    "lst_areas = sorted(lst_dimensions, key=lambda tpl : tpl[0] * tpl[1])\n",
    "print(lst_areas)  \n",
    "\n",
    "# Original list did not change\n",
    "print(lst_dimensions)\n"
   ]
  },
  {
   "cell_type": "code",
   "execution_count": 58,
   "id": "99e5093a",
   "metadata": {},
   "outputs": [
    {
     "name": "stdout",
     "output_type": "stream",
     "text": [
      "['05/Jan/2018', '10/Mar/2020', '01/May/2018', '21/Oct/2020', '16/Dec/2019']\n"
     ]
    }
   ],
   "source": [
    "# 4b) example with sort() list method\n",
    "lst_dates = ['01/May/2018', '21/Oct/2020', '05/Jan/2018', '16/Dec/2019', '10/Mar/2020']\n",
    "months = {'Jan':0, 'Feb':1, 'Mar':2, 'Apr':3, 'May':4, 'Jun':5, 'Jul':6, 'Aug':7, 'Sep':8, 'Oct':9, 'Nov':10, 'Dec':11}\n",
    "lst_dates.sort(key=lambda date : months[date.split('/')[1]])\n",
    "# lst_dates contains the list of dates sorted by months:\n",
    "print(lst_dates)  # prints ['05/Jan/2018', '10/Mar/2020', '01/May/2018', '21/Oct/2020', '16/Dec/2019']\n"
   ]
  },
  {
   "cell_type": "code",
   "execution_count": 59,
   "id": "ba9e77c2",
   "metadata": {},
   "outputs": [
    {
     "data": {
      "text/plain": [
       "'positive'"
      ]
     },
     "execution_count": 59,
     "metadata": {},
     "output_type": "execute_result"
    }
   ],
   "source": [
    "# slides 28-30 - If Statements within Lambda Function\n",
    "# lambda with a two-way if expression\n",
    "sign = lambda number : 'positive' if number >= 0 else 'negative'\n",
    "sign(10)"
   ]
  },
  {
   "cell_type": "code",
   "execution_count": 60,
   "id": "7441403e",
   "metadata": {},
   "outputs": [],
   "source": [
    "# Inside a lambda above, we had an expression (what is its type?)\n",
    "# Inside the function below, we have a control structure \n",
    "# do you understand the difference?\n",
    "def sign(n):\n",
    "    if n>=0:\n",
    "        return 'positive'\n",
    "    else:\n",
    "        return 'negative'"
   ]
  },
  {
   "cell_type": "code",
   "execution_count": 62,
   "id": "58ae2dee",
   "metadata": {},
   "outputs": [
    {
     "data": {
      "text/plain": [
       "'zero'"
      ]
     },
     "execution_count": 62,
     "metadata": {},
     "output_type": "execute_result"
    }
   ],
   "source": [
    "# lambda with a three-way if expression\n",
    "sign = lambda number : 'positive' if number > 0 else ('zero' if number == 0 else 'negative')\n",
    "sign(0)"
   ]
  },
  {
   "cell_type": "code",
   "execution_count": 63,
   "id": "d2ec819a",
   "metadata": {},
   "outputs": [
    {
     "name": "stdout",
     "output_type": "stream",
     "text": [
      "fail\n",
      "pass\n",
      "merit\n",
      "distinction\n"
     ]
    }
   ],
   "source": [
    "# lambda with a 4-way if expression\n",
    "grade = lambda mark : 'fail' if mark < 75 else \\\n",
    "                     ('pass' if mark < 80 else \\\n",
    "                     ('merit' if mark < 90 else 'distinction'))\n",
    "print(grade(74))  # returns 'fail'\n",
    "print(grade(75))  # returns 'pass'\n",
    "print(grade(80))  # returns 'merit'\n",
    "print(grade(90))  # returns 'distinction'"
   ]
  },
  {
   "cell_type": "code",
   "execution_count": 64,
   "id": "849880c6",
   "metadata": {},
   "outputs": [
    {
     "name": "stdout",
     "output_type": "stream",
     "text": [
      "60\n",
      "60\n"
     ]
    }
   ],
   "source": [
    "# some more random lambda examples:\n",
    "print((lambda a : lambda b, c : a * b * c)(3)(4,5))\n",
    "print((lambda a : lambda b : lambda c : a * b * c)(3)(4)(5))\n"
   ]
  },
  {
   "cell_type": "code",
   "execution_count": 65,
   "id": "c3ef2f65",
   "metadata": {},
   "outputs": [
    {
     "name": "stdout",
     "output_type": "stream",
     "text": [
      "6\n",
      "9\n",
      "<function <lambda>.<locals>.<lambda> at 0x0000028CED5DD670>\n"
     ]
    }
   ],
   "source": [
    "print((lambda a : lambda b : a * b)(2)(3))\n",
    "'''\n",
    "(lambda a : lambda b : a * b)(2)(3)\n",
    "---> (lambda b : 2 * b)(3)\n",
    "---> 2 * 3\n",
    "---> 6\n",
    "'''\n",
    "\n",
    "lambda a, b : a+b\n",
    "\n",
    "print((lambda a : (lambda b : a * b)(a))(3))\n",
    "'''\n",
    "(lambda a : (lambda b : a * b)(a))(3)\n",
    "---> (lambda b : 3 * b)(3)\n",
    "---> 3 * 3 \n",
    "---> 9\n",
    "'''\n",
    "# Could we have followed a different execution strategy?\n",
    "# How about this?\n",
    "'''\n",
    "(lambda a : (lambda b : a * b)(a))(3)\n",
    "---> (lambda a : a * a)(3)\n",
    "---> 3 * 3 \n",
    "---> 9\n",
    "'''\n",
    "\n",
    "\n",
    "print((lambda a : lambda b : a * b)(2))"
   ]
  }
 ],
 "metadata": {
  "kernelspec": {
   "display_name": "Python 3 (ipykernel)",
   "language": "python",
   "name": "python3"
  },
  "language_info": {
   "codemirror_mode": {
    "name": "ipython",
    "version": 3
   },
   "file_extension": ".py",
   "mimetype": "text/x-python",
   "name": "python",
   "nbconvert_exporter": "python",
   "pygments_lexer": "ipython3",
   "version": "3.8.12"
  }
 },
 "nbformat": 4,
 "nbformat_minor": 5
}
