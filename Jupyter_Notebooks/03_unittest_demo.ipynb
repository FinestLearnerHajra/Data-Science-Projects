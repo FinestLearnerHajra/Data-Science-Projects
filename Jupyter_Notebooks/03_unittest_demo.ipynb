{
 "cells": [
  {
   "cell_type": "markdown",
   "metadata": {
    "id": "lvFGoFZ9GVtg"
   },
   "source": [
    "# UnitTesting"
   ]
  },
  {
   "cell_type": "markdown",
   "metadata": {
    "id": "G3M1vUNoetsJ"
   },
   "source": [
    "## Unit Testing\n",
    "Software testing is a practice in software development, whereby a software component is examined to verify that it conforms to specification. Carrying out comprehensive tests, which validate each single requirement, is of fundamental importance in the development of an application.\n",
    "\n",
    "There are various ways to test software. We will focus on a practice which consists in executing the application under specific conditions, in order to observe how it responds. More specifically, we will focus on unit testing. In unit testing, each `unit`, the smallest component of a system, is isolated and tested individually. As a concrete example, a unit may be a function. In this case, unit testing consists in feeding a predefined input to the function and then comparing the output it returns with the output we expect.\n",
    "\n",
    "This divide and conquer approach is a very efficient way to validate requirements. It also helps to locate possible bugs. This is because, if we know that all the units behave as expected on their own, we can be confident that any failure to conform is likely stemming from the interactions between units. Unit interactions are tested in a separate phase, called `integration testing`, which we will not discuss in this class.\n",
    "\n",
    "Watch the following 2-min video for a more clear understanding about Unit Testing."
   ]
  },
  {
   "cell_type": "code",
   "execution_count": 1,
   "metadata": {
    "colab": {
     "base_uri": "https://localhost:8080/",
     "height": 321
    },
    "id": "FqPzHkOg2gJO",
    "outputId": "299bbf7f-ab08-430d-bae4-9cd6f412375a"
   },
   "outputs": [
    {
     "data": {
      "image/jpeg": "[encoded data removed]",
      "text/html": [
       "\n",
       "        <iframe\n",
       "            width=\"400\"\n",
       "            height=\"300\"\n",
       "            src=\"https://www.youtube.com/embed/upzTwaVNZzs\"\n",
       "            frameborder=\"0\"\n",
       "            allowfullscreen\n",
       "            \n",
       "        ></iframe>\n",
       "        "
      ],
      "text/plain": [
       "<IPython.lib.display.YouTubeVideo at 0x16173aa5a60>"
      ]
     },
     "execution_count": 1,
     "metadata": {},
     "output_type": "execute_result"
    }
   ],
   "source": [
    "from IPython.display import YouTubeVideo\n",
    "YouTubeVideo('upzTwaVNZzs')"
   ]
  },
  {
   "cell_type": "markdown",
   "metadata": {
    "id": "P1eC38LM0OUr"
   },
   "source": [
    "## Hands On\n",
    "\n",
    "Below, we define a simple Calculator class that we will be using as a running example in this tutorial. \n",
    "\n",
    "The Python's Unit Testing Framework we will be using is called `unittest`, one of the best known frameworks for testing Python code."
   ]
  },
  {
   "cell_type": "code",
   "execution_count": 2,
   "metadata": {
    "id": "bc83M4RyeDyq"
   },
   "outputs": [],
   "source": [
    "import unittest"
   ]
  },
  {
   "cell_type": "markdown",
   "metadata": {
    "id": "NlSOSDXT8TM5"
   },
   "source": [
    "Our basic calculator has only four operations: addition, subtraction, multiplication and division."
   ]
  },
  {
   "cell_type": "code",
   "execution_count": 3,
   "metadata": {
    "id": "wM6zJL3X8IDy"
   },
   "outputs": [],
   "source": [
    "class Calculator:\n",
    "    def __init__(self):\n",
    "        pass\n",
    "\n",
    "    def add(self, a, b):\n",
    "        return a + b\n",
    "\n",
    "    def sub(self, a, b):\n",
    "        return a - b\n",
    "  \n",
    "    def mul(self, a, b):\n",
    "        return a * b\n",
    "\n",
    "    def div(self, a, b):\n",
    "        if b != 0:\n",
    "            return a / b"
   ]
  },
  {
   "cell_type": "markdown",
   "metadata": {
    "id": "fLu5dxMlKTC1"
   },
   "source": [
    "The objective is to ensure that each method is working properly and that it returns the right output for any input pair.\n",
    "\n",
    "A test case is created by subclassing `unittest.TestCase`."
   ]
  },
  {
   "cell_type": "code",
   "execution_count": 4,
   "metadata": {
    "id": "m_9AnKez-E-h"
   },
   "outputs": [],
   "source": [
    "class TestCalculator(unittest.TestCase):\n",
    "  \n",
    "    def test_add_returns_sum_when_numerical_arguments_provided(self):\n",
    "        '''Test case function for addition'''\n",
    "        self.calc = Calculator()\n",
    "        result = self.calc.add(4, 7)\n",
    "        expected = 11\n",
    "        self.assertEqual(result, expected)\n",
    "\n",
    "    def test_sub_returns_difference_when_numerical_arguments_provided(self):\n",
    "        '''Test case function for subtraction'''\n",
    "        self.calc = Calculator()\n",
    "        result = self.calc.sub(10, 5)\n",
    "        expected = 5\n",
    "        self.assertEqual(result, expected)\n",
    "\n",
    "    @unittest.skip('Some reason')\n",
    "    def test_mul_returns_product_when_numerical_arguments_provided(self):\n",
    "        '''Test case function for multiplication'''\n",
    "        self.calc = Calculator()\n",
    "        result = self.calc.mul(3, 7)\n",
    "        expected = 21\n",
    "        self.assertEqual(result, expected)\n",
    "\n",
    "    def test_div_returns_quotient_when_divisor_not_zero(self):\n",
    "        '''Test case function for division'''\n",
    "        self.calc = Calculator()\n",
    "        result = self.calc.div(10, 2)\n",
    "        expected = 4\n",
    "        self.assertEqual(result, expected)"
   ]
  },
  {
   "cell_type": "markdown",
   "metadata": {
    "id": "w5YMvPwo-mqb"
   },
   "source": [
    "We created 4 unit tests, each of which is checking a method of the Calculator class. These checks are being done through calls to `assertion` methods, in this case the `assertEqual` method. Note that, flagging the method `test_mul` with `@unittest.skip('your_reason')` will skip the test for that method.\n",
    "\n",
    "Note that the test names follow a specific convention. Namely, the first word, `test`, specifies what the method does (it tests some unit). After that, we specify what we are testing (i.e., the name of the unit under test). After that, we specify the expected behavior. And finally, we specify the circumstances under which such behavior is expected.\n",
    "\n",
    "Naming your tests according to the above convention also forces you to think about all the configurations that should be tested. Can you think of other configurations that we should have tested?\n",
    "\n",
    "Note that other naming conventions are possible:\n",
    "\n",
    "https://methodpoet.com/unit-test-method-naming-convention/#:~:text=What%20are%20some%20popular%20naming%20conventions%20for%20unit,name.%20...%205%20When_Condition_Expect_Result%20...%206%20Given_When_Then%20\n",
    "\n",
    "Choosing a good naming convention is very important as it makes immediately clear what each test does and helps to keep them organized. Different people may have different opinions as to what is the best naming convention. The important thing is that, once you have chosen a naming convention that you find clear, you stick to it.\n",
    "\n",
    "To run the tests, do the following:"
   ]
  },
  {
   "cell_type": "code",
   "execution_count": 5,
   "metadata": {
    "colab": {
     "base_uri": "https://localhost:8080/"
    },
    "id": "G0wAtv8a-4bM",
    "outputId": "de8605d8-c740-444b-87c6-e9386f9273c8"
   },
   "outputs": [
    {
     "name": "stderr",
     "output_type": "stream",
     "text": [
      "test_add_returns_sum_when_numerical_arguments_provided (__main__.TestCalculator)\n",
      "Test case function for addition ... ok\n",
      "test_div_returns_quotient_when_divisor_not_zero (__main__.TestCalculator)\n",
      "Test case function for division ... FAIL\n",
      "test_mul_returns_product_when_numerical_arguments_provided (__main__.TestCalculator)\n",
      "Test case function for multiplication ... skipped 'Some reason'\n",
      "test_sub_returns_difference_when_numerical_arguments_provided (__main__.TestCalculator)\n",
      "Test case function for subtraction ... ok\n",
      "\n",
      "======================================================================\n",
      "FAIL: test_div_returns_quotient_when_divisor_not_zero (__main__.TestCalculator)\n",
      "Test case function for division\n",
      "----------------------------------------------------------------------\n",
      "Traceback (most recent call last):\n",
      "  File \"C:\\Users\\USER\\AppData\\Local\\Temp/ipykernel_19400/4228767264.py\", line 30, in test_div_returns_quotient_when_divisor_not_zero\n",
      "    self.assertEqual(result, expected)\n",
      "AssertionError: 5.0 != 4\n",
      "\n",
      "----------------------------------------------------------------------\n",
      "Ran 4 tests in 0.010s\n",
      "\n",
      "FAILED (failures=1, skipped=1)\n"
     ]
    },
    {
     "data": {
      "text/plain": [
       "<unittest.main.TestProgram at 0x16173b30910>"
      ]
     },
     "execution_count": 5,
     "metadata": {},
     "output_type": "execute_result"
    }
   ],
   "source": [
    "unittest.main(argv=[''], verbosity=2, exit=False)"
   ]
  },
  {
   "cell_type": "markdown",
   "metadata": {
    "id": "ViO48KML_qJL"
   },
   "source": [
    "As you can check above, addition and subtraction passed, multiplication was intentionally skipped, and division failed."
   ]
  },
  {
   "cell_type": "markdown",
   "metadata": {},
   "source": [
    "In all of the above tests, we have used the assertEqual method. That is just one of many different `assertions`, which the Unittest class provides. An assertion defines the condition for passing the test. Here are a few other assertion methods: `assertNotEqual(a, b)`, `assertTrue(x)`, `assertFalse(x)`, `assertIs(a, b)`, `assertIsNot(a, b)`, `assertIsNone(x)` and many more."
   ]
  },
  {
   "cell_type": "markdown",
   "metadata": {},
   "source": [
    "You may be wondering what the line:\n",
    "\n",
    "`unittest.main(argv=[''], verbosity=2, exit=False)`\n",
    "\n",
    "does. It is responsible for running our tests. In it: the `argv` parameter may be used to specify a list of arguments for our tests; `verbosity=2` selects verbose mode for when the test output is displayed; `exit=False` says that execution should not stop after the tests have completed (so that, if there are other commands after unittest.main, they can be run too). "
   ]
  },
  {
   "cell_type": "markdown",
   "metadata": {
    "id": "oSNV-9X2K9FS"
   },
   "source": [
    "## Exception Testing\n",
    "\n",
    "All the `assert*` methods listed above are used to compare values (typically, the returned output value against the expected output value). We can also use assertions to verify whether an exception is raised. This can be done by using the `assertRaises` method:\n",
    "\n",
    "`assertRaises(exception, callable, *args, **kwds)`\n",
    "\n",
    "Where `exception` is the type of exception, `callable` is the method to be tested, and `args` are optional parameters passed to the `callable` method.\n",
    "\n",
    "Let's change the calculator's division operation, just to see how `assertRaises` works."
   ]
  },
  {
   "cell_type": "code",
   "execution_count": 6,
   "metadata": {
    "id": "apjyti3t7w4g"
   },
   "outputs": [],
   "source": [
    "class Calculator:\n",
    "    def __init__(self):\n",
    "        pass\n",
    "\n",
    "    def add(self, a, b):\n",
    "        return a + b\n",
    "\n",
    "    def sub(self, a, b):\n",
    "        return a - b\n",
    "  \n",
    "    def mul(self, a, b):\n",
    "        return a * b\n",
    "\n",
    "    def div(self, a, b):\n",
    "        if b == 0:\n",
    "            raise ZeroDivisionError(\"The divisor cannot be zero\")\n",
    "        return a / b"
   ]
  },
  {
   "cell_type": "markdown",
   "metadata": {
    "id": "dtKXCsfDId5E"
   },
   "source": [
    "Whenever `div` is called with divisor equals 0 an error is raised. Check it by running the following test case:"
   ]
  },
  {
   "cell_type": "code",
   "execution_count": 7,
   "metadata": {
    "colab": {
     "base_uri": "https://localhost:8080/"
    },
    "id": "8wBtAY0II8bG",
    "outputId": "49bf98e6-086b-48bf-b3f6-76d9e28327b6"
   },
   "outputs": [
    {
     "name": "stderr",
     "output_type": "stream",
     "text": [
      "test_div_raises_ZeroDivisionError_when_divisor_is_zero (__main__.TestCalculator)\n",
      "Checking that ZeroDivisionError is raised when the divisor is 0 ... ok\n",
      "\n",
      "----------------------------------------------------------------------\n",
      "Ran 1 test in 0.003s\n",
      "\n",
      "OK\n"
     ]
    },
    {
     "data": {
      "text/plain": [
       "<unittest.main.TestProgram at 0x16173b491c0>"
      ]
     },
     "execution_count": 7,
     "metadata": {},
     "output_type": "execute_result"
    }
   ],
   "source": [
    "class TestCalculator(unittest.TestCase):\n",
    "\n",
    "    def test_div_raises_ZeroDivisionError_when_divisor_is_zero(self):\n",
    "        '''\n",
    "        Checking that ZeroDivisionError is raised when the divisor is 0\n",
    "        '''\n",
    "        self.calc = Calculator()\n",
    "        self.assertRaises(ZeroDivisionError, self.calc.div, 10, 0)\n",
    "\n",
    "unittest.main(argv=[''], verbosity=2, exit=False)"
   ]
  },
  {
   "cell_type": "markdown",
   "metadata": {
    "id": "YWCrD0yyJHXa"
   },
   "source": [
    "The test passes because 10 over 0 does raise a `ZeroDivisionError` exception. "
   ]
  },
  {
   "cell_type": "markdown",
   "metadata": {
    "id": "wUBMH5EmxRTf"
   },
   "source": [
    "## Organization of Test Cases\n",
    "\n",
    "The organization of test cases is essential to make them better, more independent and help with their maintenance. There are various standards related to automated tests that can be used in Unit Testing. We will discuss a few of these below."
   ]
  },
  {
   "cell_type": "markdown",
   "metadata": {
    "id": "SrsCjvFtKMse"
   },
   "source": [
    "### Organization by Instances\n",
    "\n",
    "As seen previously, unit test cases are represented by `unittest.TestCase` instances. In other words, we created only one test class holding all the tests of its methods. To better organize the test code, it is possible to create different instances, each one containing a variety of tests for the same method.\n",
    "\n",
    "Let's create another test case, specifically for testing the division method."
   ]
  },
  {
   "cell_type": "code",
   "execution_count": 8,
   "metadata": {
    "colab": {
     "base_uri": "https://localhost:8080/"
    },
    "id": "BcyiMC0BKTM5",
    "outputId": "9c3da04c-b503-4968-cc14-dad6d35c07ff"
   },
   "outputs": [
    {
     "name": "stderr",
     "output_type": "stream",
     "text": [
      "test_div_raises_ZeroDivisionError_when_divisor_is_zero (__main__.TestCalcDiv)\n",
      "Checking that ZeroDivisionError is raised when the divisor is 0 ... ok\n",
      "test_div_returns_quotient_when_divisor_not_zero (__main__.TestCalcDiv)\n",
      "Testing the division method under normal circumstances ... ok\n",
      "\n",
      "----------------------------------------------------------------------\n",
      "Ran 2 tests in 0.003s\n",
      "\n",
      "OK\n"
     ]
    },
    {
     "data": {
      "text/plain": [
       "<unittest.main.TestProgram at 0x16173b30e20>"
      ]
     },
     "execution_count": 8,
     "metadata": {},
     "output_type": "execute_result"
    }
   ],
   "source": [
    "class TestCalcDiv(unittest.TestCase):\n",
    "\n",
    "    def test_div_returns_quotient_when_divisor_not_zero(self):\n",
    "        '''Testing the division method under normal circumstances'''\n",
    "        self.calc = Calculator()\n",
    "        self.assertEqual(self.calc.div(10, 5), 2)\n",
    "        self.assertEqual(self.calc.div(12, 2), 6)\n",
    "\n",
    "    def test_div_raises_ZeroDivisionError_when_divisor_is_zero(self):\n",
    "        '''\n",
    "        Checking that ZeroDivisionError is raised when the divisor is 0\n",
    "        '''\n",
    "        self.calc = Calculator()\n",
    "        self.assertRaises(ZeroDivisionError, self.calc.div, 10, 0)\n",
    "\n",
    "unittest.main(argv=[''], defaultTest='TestCalcDiv', verbosity=2, exit=False)"
   ]
  },
  {
   "cell_type": "markdown",
   "metadata": {
    "id": "C2OjssRIPiDS"
   },
   "source": [
    "The test case above will pass. "
   ]
  },
  {
   "cell_type": "markdown",
   "metadata": {
    "id": "vkVGBtwwxXac"
   },
   "source": [
    "### SetUp() and TearDown()\n",
    "\n",
    "The setUp and tearDown methods are also useful in organizing test cases. When a `setUp` method is defined, the test runner will run that method **prior** to each test. Likewise, if a `tearDown` method is defined, the test runner will invoke that method **after** each test.\n",
    "\n",
    "As you might have noticed, so far we have been creating an instance of Calculator (`self.calc = Calculator()`) in every method to be tested. To avoid repeating code we can do that only once, in the `setUp` method.\n",
    "\n",
    "This is how our division test case looks like now:"
   ]
  },
  {
   "cell_type": "code",
   "execution_count": 9,
   "metadata": {
    "colab": {
     "base_uri": "https://localhost:8080/"
    },
    "id": "FHbBFvQWOS0N",
    "outputId": "fc468048-888f-4f08-f3bf-8dc4258bb219"
   },
   "outputs": [
    {
     "name": "stderr",
     "output_type": "stream",
     "text": [
      "test_div_raises_ZeroDivisionError_when_divisor_is_zero (__main__.TestCalcDiv)\n",
      "Checking that ZeroDivisionError is raised when the divisor is 0 ... ok\n",
      "test_div_returns_quotient_when_divisor_not_zero (__main__.TestCalcDiv)\n",
      "Testing the division method under normal circumstances ... ok\n",
      "\n",
      "----------------------------------------------------------------------\n",
      "Ran 2 tests in 0.002s\n",
      "\n",
      "OK\n"
     ]
    },
    {
     "data": {
      "text/plain": [
       "<unittest.main.TestProgram at 0x16173b395e0>"
      ]
     },
     "execution_count": 9,
     "metadata": {},
     "output_type": "execute_result"
    }
   ],
   "source": [
    "class TestCalcDiv(unittest.TestCase):\n",
    "\n",
    "    def setUp(self):\n",
    "        '''Set up an instance of Calculator pior to every test execution'''\n",
    "        self.calc = Calculator()\n",
    "\n",
    "    def test_div_returns_quotient_when_divisor_not_zero(self):\n",
    "        '''Testing the division method under normal circumstances'''\n",
    "        self.assertEqual(self.calc.div(10, 5), 2)\n",
    "        self.assertEqual(self.calc.div(12, 2), 6)\n",
    "\n",
    "    def test_div_raises_ZeroDivisionError_when_divisor_is_zero(self):\n",
    "        '''\n",
    "        Checking that ZeroDivisionError is raised when the divisor is 0\n",
    "        '''\n",
    "        self.assertRaises(ZeroDivisionError, self.calc.div, 10, 0)\n",
    "\n",
    "unittest.main(argv=[''], defaultTest='TestCalcDiv', verbosity=2, exit=False)"
   ]
  },
  {
   "cell_type": "markdown",
   "metadata": {
    "id": "jgrLmXwoZV0a"
   },
   "source": [
    "The test case passed without problems. You can try creating your own `tearDown` method now."
   ]
  },
  {
   "cell_type": "markdown",
   "metadata": {
    "id": "opuRF9GQVo2I"
   },
   "source": [
    "## Final Consideration\n",
    "\n",
    "Testing will not catch every error in the program, because it cannot evaluate every execution path in any but the most trivial programs. It cannot prove correctness. This problem can be reduced to the halting problem, which is undecidable."
   ]
  },
  {
   "cell_type": "markdown",
   "metadata": {
    "id": "xHl-Kc6L1U-F"
   },
   "source": [
    "## References\n",
    "\n",
    "1. [Unit testing framework](https://docs.python.org/3/library/unittest.html)"
   ]
  },
  {
   "cell_type": "markdown",
   "metadata": {
    "id": "r4VSiqbR7h-R"
   },
   "source": [
    "## Other example \n"
   ]
  },
  {
   "cell_type": "markdown",
   "metadata": {
    "id": "Bad20iZK5Tp_"
   },
   "source": [
    "## Unit Testing\n",
    "\n",
    "[Unit testing](https://en.wikipedia.org/wiki/Unit_testing) is a method of testing your code by writing tests for individual functions.\n",
    "\n",
    "Let's say you write a package which provides a function.  You want to convince someone (especially yourself) that the function works as intended.  An excellent way to do this is to write unit tests, which (assuming they pass) demonstrate that your function does what it is supposed to be doing, at least for the configurations you're testing.\n",
    "\n",
    "## unittest package\n",
    "\n",
    "[unittest](https://docs.python.org/3.8/library/unittest.html) is a built-in package which provides unit testing capabilities.\n",
    "\n",
    "Generally, you define classes that inherit from `unittest.TestCase`.  Then you can add methods which test different functionality."
   ]
  },
  {
   "cell_type": "code",
   "execution_count": 11,
   "metadata": {
    "id": "MgAnMwtf5Tq7",
    "outputId": "f46f9a0f-504e-4908-bcac-2692433d7e4e"
   },
   "outputs": [
    {
     "data": {
      "text/plain": [
       "True"
      ]
     },
     "execution_count": 11,
     "metadata": {},
     "output_type": "execute_result"
    }
   ],
   "source": [
    "'foo'.upper().isupper()"
   ]
  },
  {
   "cell_type": "code",
   "execution_count": 10,
   "metadata": {
    "id": "XsSzBKJD5TrA"
   },
   "outputs": [],
   "source": [
    "import unittest\n",
    "\n",
    "class TestStringMethods(unittest.TestCase):\n",
    "\n",
    "    def test_upper_converts_string_to_upper_case(self):\n",
    "        self.assertEqual('foo'.upper(), 'FOO')\n",
    "\n",
    "    def test_isupper_returns_True_if_argument_is_upper_case(self):\n",
    "        self.assertTrue('ABC'.isupper())\n",
    "\n",
    "    def test_isupper_returns_False_if_argument_is_not_upper_case(self):\n",
    "        self.assertFalse('Foo'.isupper())\n",
    "\n",
    "    def test_split_returns_word_list_when_string_passed(self):\n",
    "        s = 'hello world'\n",
    "        self.assertEqual(s.split(), ['hello', 'world'])\n",
    "            \n",
    "    def test_split_raises_TypeError_when_separator_is_not_a_string(self):\n",
    "        '''checks that s.split fails when the separator is not a string'''\n",
    "        s = 'hello world'\n",
    "        with self.assertRaises(TypeError):\n",
    "            s.split(2)"
   ]
  },
  {
   "cell_type": "markdown",
   "metadata": {
    "id": "Odcl9LRO5TrB"
   },
   "source": [
    "We can then run our tests using `unittest.main()` (the arguments below are passed in so we can run it in Jupyter)."
   ]
  },
  {
   "cell_type": "code",
   "execution_count": 11,
   "metadata": {
    "id": "wG3ni7AZ5TrC",
    "outputId": "ee369a93-95b9-419e-e7c5-8e03a653eb99"
   },
   "outputs": [
    {
     "name": "stderr",
     "output_type": "stream",
     "text": [
      ".....\n",
      "----------------------------------------------------------------------\n",
      "Ran 5 tests in 0.005s\n",
      "\n",
      "OK\n"
     ]
    },
    {
     "data": {
      "text/plain": [
       "<unittest.main.TestProgram at 0x16173b39160>"
      ]
     },
     "execution_count": 11,
     "metadata": {},
     "output_type": "execute_result"
    }
   ],
   "source": [
    "unittest.main(argv=['first-arg-is-ignored'], defaultTest='TestStringMethods', exit=False)"
   ]
  },
  {
   "cell_type": "markdown",
   "metadata": {
    "id": "-HNLdUPI5TrE"
   },
   "source": [
    "When using floating-point numbers, use `assertAlmostEqual` instead of `assertEqual` to test for numerical equality"
   ]
  },
  {
   "cell_type": "code",
   "execution_count": 12,
   "metadata": {
    "id": "xaJXTbNe5TrE",
    "outputId": "d6bfea9a-12e1-46fa-ad06-63dd397ebce2"
   },
   "outputs": [
    {
     "data": {
      "text/plain": [
       "0.19999999999999996"
      ]
     },
     "execution_count": 12,
     "metadata": {},
     "output_type": "execute_result"
    }
   ],
   "source": [
    "1.2 - 1.0"
   ]
  },
  {
   "cell_type": "code",
   "execution_count": 15,
   "metadata": {
    "id": "2VHN9JcW5TrE"
   },
   "outputs": [],
   "source": [
    "class TestFloatArithmetic(unittest.TestCase):\n",
    "    \n",
    "    def test_subtraction_returns_approximate_difference_when_floating_point_arguments_are_provided(self):\n",
    "        self.assertAlmostEqual(1.2 - 1.0, 0.2)\n",
    "        \n",
    "    def test_subtraction_returns_exact_difference_when_floating_point_arguments_are_provided(self):\n",
    "        self.assertEqual(1.2 - 1.0, 0.2 )"
   ]
  },
  {
   "cell_type": "code",
   "execution_count": 14,
   "metadata": {
    "id": "Hw4YaPCs5TrF",
    "outputId": "38211326-7419-49fc-ab35-1731e5ed69e9",
    "scrolled": true
   },
   "outputs": [
    {
     "name": "stderr",
     "output_type": "stream",
     "text": [
      "....F.....\n",
      "======================================================================\n",
      "FAIL: test_subtraction_returns_exact_difference_when_floating_point_arguments_are_provided (__main__.TestFloatArithmetic)\n",
      "----------------------------------------------------------------------\n",
      "Traceback (most recent call last):\n",
      "  File \"C:\\Users\\USER\\AppData\\Local\\Temp/ipykernel_19400/16638656.py\", line 7, in test_subtraction_returns_exact_difference_when_floating_point_arguments_are_provided\n",
      "    self.assertEqual(1.2 - 1.0, 0.2 )\n",
      "AssertionError: 0.19999999999999996 != 0.2\n",
      "\n",
      "----------------------------------------------------------------------\n",
      "Ran 10 tests in 0.010s\n",
      "\n",
      "FAILED (failures=1)\n"
     ]
    },
    {
     "data": {
      "text/plain": [
       "<unittest.main.TestProgram at 0x16173b30a00>"
      ]
     },
     "execution_count": 14,
     "metadata": {},
     "output_type": "execute_result"
    }
   ],
   "source": [
    "unittest.main(argv=['first-arg-is-ignored'], exit=False)"
   ]
  },
  {
   "cell_type": "markdown",
   "metadata": {
    "id": "c3MQYNvc5TrG"
   },
   "source": [
    "### Running from command line\n",
    "\n",
    "The more common way to run unit tests is to have them in a test folder or file `test.py`.  You can then run tests using\n",
    "\n",
    "```bash\n",
    "python -m unittest test.py\n",
    "```\n",
    "\n",
    "Or use `pytest` via\n",
    "```bash\n",
    "pytest test.py\n",
    "```\n",
    "\n",
    "[pytest](https://docs.pytest.org/en/stable/) is another Python testing framework - it is compatible with `unittest`, and has additional functionality which we aren't going to cover."
   ]
  },
  {
   "cell_type": "markdown",
   "metadata": {
    "id": "3n_sXmPk5TrJ"
   },
   "source": [
    "## Test-Driven Development\n",
    "\n",
    "You don't need to wait to implement everything in order to write your tests.  Writing your tests first is called **test-driven development**.  One advantage of test-driven development is that you'll know when you have succeeded in your implementation, since all your tests will pass."
   ]
  },
  {
   "cell_type": "markdown",
   "metadata": {},
   "source": [
    "To practice with TDD, I encourage you to re-write all the classes you did in the OOP exercises. But this time, start writing the tests first, following the TDD approach."
   ]
  },
  {
   "cell_type": "markdown",
   "metadata": {},
   "source": [
    "The more mathematically-minded among you may want to give a shot at the following exercise instead (or, as well). For this, you may need to research some functions from the numpy library, and also to refresh your memory on some linear algebra concepts from your Uni days. To be clear, the following exercise is OPTIONAL!\n",
    "\n",
    "Consider a suite of tests that test a `power_method` function:"
   ]
  },
  {
   "cell_type": "code",
   "execution_count": 17,
   "metadata": {
    "id": "nUuExRl_5TrJ",
    "outputId": "783548b8-1ba7-4f9f-a106-ac0c7b3be11a"
   },
   "outputs": [
    {
     "data": {
      "text/plain": [
       "array([[1., 1., 1., 1., 1.],\n",
       "       [1., 1., 1., 1., 1.],\n",
       "       [1., 1., 1., 1., 1.],\n",
       "       [1., 1., 1., 1., 1.],\n",
       "       [1., 1., 1., 1., 1.]])"
      ]
     },
     "execution_count": 17,
     "metadata": {},
     "output_type": "execute_result"
    }
   ],
   "source": [
    "import numpy as np\n",
    "np.ones((5,5))"
   ]
  },
  {
   "cell_type": "code",
   "execution_count": 18,
   "metadata": {
    "id": "D3sEPPOq5TrJ"
   },
   "outputs": [],
   "source": [
    "class TestPowerMethod(unittest.TestCase):\n",
    "    \n",
    "    def test_powermethod_returns_eigenpair_when_the_argument_is_a_matrix(self):\n",
    "        n = 5\n",
    "        A = np.random.randn((n,n))\n",
    "        A = A + A.T                # make symmetric by adding transpose\n",
    "        lam, v = powermethod(A)    # returns eigenvalue, eigenvector pair\n",
    "        v2 = A @ v                 # matrix-vector multiplication\n",
    "        # on the next line, * is scalar multiplication\n",
    "        self.assertAlmostEqual(np.linalg.norm(v2 - lam * v), 0) \n",
    "    \n",
    "    def test_powermethod_returns_normalized_eigenvector(self):\n",
    "        n = 5\n",
    "        A = np.random.randn((n,n))\n",
    "        A = A + A.T \n",
    "        lam, v = powermethod(A)\n",
    "        self.assertAlmostEqual(np.linalg.norm(v), 1)\n",
    "    \n",
    "    def test_powermethod_returns_pure_diagonal_when_matrix_has_rank_one(self):\n",
    "        n = 5\n",
    "        A = np.ones((n,n))\n",
    "        lam, v = powermethod(A)\n",
    "        # check that v is close to constant function.\n",
    "        self.assertAlmostEqual(np.linalg.norm(v - np.ones(n)/np.sqrt(n)), 0)\n",
    "        "
   ]
  },
  {
   "cell_type": "markdown",
   "metadata": {
    "id": "4memyTXy5TrJ"
   },
   "source": [
    "### Exercise\n",
    "\n",
    "Implement a function `powermethod` which satisfies the above tests (using the Power method algorithm, of course)\n",
    "\n",
    "https://www.sciencedirect.com/topics/mathematics/power-method\n",
    "\n",
    "If you don't understand the last test, the following may help (combined with the fact that the norm of the returned vector must be one, as checked in the second test):\n",
    "\n",
    "https://math.stackexchange.com/questions/217521/what-are-the-eigenvalues-of-matrix-that-have-all-elements-equal-1\n",
    "\n",
    "NOTE (to explain the way I named the last test): by `pure diagonal` vector, I mean a vector whose elements are all equal, the reason being that it makes the same angle with all co-ordinate axes (https://math.stackexchange.com/questions/1626821/what-is-the-name-of-a-vector-with-all-equal-elements). \n",
    "You may also recall that the rank of a matrix is the number of independent column vectors. In the last test above, all the columns in the matrix A are equal. Therefore, the rank is one."
   ]
  },
  {
   "cell_type": "code",
   "execution_count": null,
   "metadata": {
    "id": "QvAx11ps5TrK"
   },
   "outputs": [],
   "source": [
    "## Your code here\n"
   ]
  },
  {
   "cell_type": "markdown",
   "metadata": {
    "id": "X6G9uUz35TrK"
   },
   "source": [
    "## Further Examples\n",
    "\n",
    "* Check out `test.py` in each homework assignment, which is used for autograding.\n",
    "* You can find another example in the repository [`python-packages`](https://github.com/caam37830/python-packages)"
   ]
  },
  {
   "cell_type": "markdown",
   "metadata": {
    "id": "BH4mxFaY5TrK"
   },
   "source": [
    "## Continuous Integration\n",
    "\n",
    "[Continuous Integration](https://en.wikipedia.org/wiki/Continuous_integration), or CI, is the practice of automatically building code and running tests *continuously*.  Continuously in this case generally means any time changes are made, which might be multiple times a day.\n",
    "\n",
    "The advantage of CI is that when you make changes to your code, you quickly find out if there are problems that need to be solved if your tests fail.  You can run these tests before merging branches in your git repository, making sure that checks pass.\n",
    "\n",
    "[GitHub actions](https://docs.github.com/en/free-pro-team@latest/actions/learn-github-actions/introduction-to-github-actions) is one way of implementing CI.  This is what we are using in this class - you can find an example in the [`python-packages` repository](https://github.com/caam37830/python-packages/blob/main/.github/workflows/push.yml).\n",
    "\n",
    "Another popular option which you may see in open source software is [Travis-CI](https://travis-ci.org/).  \n",
    "\n",
    "Both these platforms are configured using a `*.yml` file.  See the [`python-packages` repository](https://github.com/caam37830/python-packages/blob/main/.github/workflows/push.yml) for an example.\n",
    "\n",
    "You can do more than just run unit tests using CI, such as running integration tests, verifying that data analyses don't change, etc."
   ]
  }
 ],
 "metadata": {
  "accelerator": "TPU",
  "colab": {
   "collapsed_sections": [
    "lvFGoFZ9GVtg",
    "K_Oi1a7K9-ox",
    "RiicargLAClz",
    "QAhNkTlV_yXT"
   ],
   "provenance": []
  },
  "kernelspec": {
   "display_name": "Python 3 (ipykernel)",
   "language": "python",
   "name": "python3"
  },
  "language_info": {
   "codemirror_mode": {
    "name": "ipython",
    "version": 3
   },
   "file_extension": ".py",
   "mimetype": "text/x-python",
   "name": "python",
   "nbconvert_exporter": "python",
   "pygments_lexer": "ipython3",
   "version": "3.8.12"
  }
 },
 "nbformat": 4,
 "nbformat_minor": 1
}
