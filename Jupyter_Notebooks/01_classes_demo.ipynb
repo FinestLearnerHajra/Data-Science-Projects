{
 "cells": [
  {
   "cell_type": "code",
   "execution_count": 1,
   "id": "ddc95418",
   "metadata": {},
   "outputs": [],
   "source": [
    "##############################\n",
    "# Module 2A - Python Classes #\n",
    "##############################\n",
    "\n",
    "#                  CLASSES DEFINE TYPES\n",
    "\n",
    "# A type is a contract that a certain instance has to satisfy.\n",
    "\n",
    "# It offers specific guarantees. \n",
    "\n",
    "# When we interact with an instance of a type, \n",
    "# we can rely on it to behave as per its contract.\n",
    "\n",
    "# The simplest class of all is one that makes no guarantees at all:\n",
    "\n",
    "class EmptyClass:\n",
    "    pass\n"
   ]
  },
  {
   "cell_type": "code",
   "execution_count": 2,
   "id": "49221424",
   "metadata": {},
   "outputs": [],
   "source": [
    "# An instance of a class is called OBJECT\n",
    "\n",
    "# When we create an object of a class, we say that\n",
    "# we are instantiating the class\n",
    "\n",
    "# To instantiate an object of a class, we invoke a CONSTRUCTOR\n",
    "\n",
    "# Every class has at least one constructor, \n",
    "# as it needs to offer a way to be instantiated\n",
    "\n",
    "# Since our class didn't explicitly include any constructor,\n",
    "# it retains the default constructor, which has no arguments:\n",
    "\n",
    "empty_object = EmptyClass()\n"
   ]
  },
  {
   "cell_type": "code",
   "execution_count": 3,
   "id": "d6e02d70",
   "metadata": {},
   "outputs": [
    {
     "name": "stdout",
     "output_type": "stream",
     "text": [
      "<class '__main__.EmptyClass'>\n",
      "EmptyClass\n",
      "EmptyClass\n"
     ]
    }
   ],
   "source": [
    "# To check what the type of an object is, we can use the type() function:\n",
    "\n",
    "print(type(empty_object))\n",
    "\n",
    "# if we only care about the name of the type and nothing else:\n",
    "\n",
    "print(type(empty_object).__name__)\n",
    "\n",
    "# or, equivalently:\n",
    "\n",
    "print(empty_object.__class__.__name__)\n",
    "\n",
    "# Run the cell to check what the type of our object is - surprised?\n"
   ]
  },
  {
   "cell_type": "code",
   "execution_count": 4,
   "id": "f268d7ad",
   "metadata": {},
   "outputs": [
    {
     "name": "stdout",
     "output_type": "stream",
     "text": [
      "<class 'type'>\n",
      "type\n"
     ]
    }
   ],
   "source": [
    "# Actually, a class has a type too!\n",
    "\n",
    "print(type(EmptyClass))\n",
    "\n",
    "# or, if we only care about the name of the class's type:\n",
    "\n",
    "print(type(EmptyClass).__name__)\n"
   ]
  },
  {
   "cell_type": "code",
   "execution_count": 5,
   "id": "8e850701",
   "metadata": {},
   "outputs": [
    {
     "data": {
      "text/plain": [
       "type"
      ]
     },
     "execution_count": 5,
     "metadata": {},
     "output_type": "execute_result"
    }
   ],
   "source": [
    "############################## OPTIONAL ##############################\n",
    "\n",
    "# Let's recap: \n",
    "#\n",
    "# - 'type' is the type of classes\n",
    "# - classes themselves define types (for other objects)\n",
    "#\n",
    "# You may be wondering: \n",
    "#\n",
    "# what is the type of 'type'?\n",
    "# \n",
    "# Also, is there an end to this \"the type of the type of the type of ...\"?!\n",
    "#\n",
    "# Well, let's see if we can find out!\n",
    "\n",
    "type(type)\n",
    "\n",
    "# Looks like we reached the end of the line\n",
    "\n",
    "# NOTE - the two occurrences of the word 'type' in the above line\n",
    "#        do not refer to the same concept: \n",
    "#\n",
    "# - 'type(obj)' is a function that returns the type of its argument (obj)\n",
    "# - 'type' is the name of an object (which happens to be a type)\n",
    "#\n"
   ]
  },
  {
   "cell_type": "code",
   "execution_count": 6,
   "id": "6fcbbbb2",
   "metadata": {},
   "outputs": [
    {
     "data": {
      "text/plain": [
       "True"
      ]
     },
     "execution_count": 6,
     "metadata": {},
     "output_type": "execute_result"
    }
   ],
   "source": [
    "# Yes, you read it right - 'type' is an object too: \n",
    "\n",
    "isinstance(type,object)\n",
    "\n",
    "# everything is an object in Python!\n",
    "\n",
    "# To recap: 'type' is a type, but also an object of type 'type'\n",
    "\n",
    "# Confused? No worries, it's ok to be confused. In any case,\n",
    "# you probably won't need to know this in your daily activities.\n",
    "\n",
    "########################## END OF OPTIONAL ##########################"
   ]
  },
  {
   "cell_type": "code",
   "execution_count": 7,
   "id": "a099b7dd",
   "metadata": {},
   "outputs": [
    {
     "data": {
      "text/plain": [
       "['__class__',\n",
       " '__delattr__',\n",
       " '__dict__',\n",
       " '__dir__',\n",
       " '__doc__',\n",
       " '__eq__',\n",
       " '__format__',\n",
       " '__ge__',\n",
       " '__getattribute__',\n",
       " '__gt__',\n",
       " '__hash__',\n",
       " '__init__',\n",
       " '__init_subclass__',\n",
       " '__le__',\n",
       " '__lt__',\n",
       " '__module__',\n",
       " '__ne__',\n",
       " '__new__',\n",
       " '__reduce__',\n",
       " '__reduce_ex__',\n",
       " '__repr__',\n",
       " '__setattr__',\n",
       " '__sizeof__',\n",
       " '__str__',\n",
       " '__subclasshook__',\n",
       " '__weakref__']"
      ]
     },
     "execution_count": 7,
     "metadata": {},
     "output_type": "execute_result"
    }
   ],
   "source": [
    "# We can further inspect our class and its content, as follows:\n",
    "\n",
    "dir(EmptyClass)\n"
   ]
  },
  {
   "cell_type": "code",
   "execution_count": null,
   "id": "6a9867c7",
   "metadata": {},
   "outputs": [],
   "source": [
    "# After all, our EmptyClass doesn't look so empty anymore, does it?\n",
    "\n",
    "# Let's take a closer look!\n",
    "\n",
    "# dir returns a list of all the ATTRIBUTES and METHODS inside our class\n",
    "\n",
    "# Along with constructors, attributes and methods are the constituent \n",
    "# components of classes \n",
    "\n"
   ]
  },
  {
   "cell_type": "code",
   "execution_count": 8,
   "id": "2255033f",
   "metadata": {},
   "outputs": [
    {
     "name": "stdout",
     "output_type": "stream",
     "text": [
      "{'__module__': '__main__', '__dict__': <attribute '__dict__' of 'EmptyClass' objects>, '__weakref__': <attribute '__weakref__' of 'EmptyClass' objects>, '__doc__': None}\n"
     ]
    }
   ],
   "source": [
    "# At this point, we are not interested in those methods and attributes\n",
    "\n",
    "# Nor do we care about what the underscores are for\n",
    "\n",
    "# There is one attribute that we want to highlight though \n",
    "\n",
    "# It is __dict__ and it can be used to retrieve the list \n",
    "# of all attributes of the class, as a dictionary:\n",
    "\n",
    "print(EmptyClass.__dict__)\n"
   ]
  },
  {
   "cell_type": "code",
   "execution_count": null,
   "id": "7eba3ee4",
   "metadata": {},
   "outputs": [],
   "source": [
    "# Note that it's a shorter list, as it does not include the methods\n",
    "\n",
    "# On the other hand, it gives more information on the attributes:\n",
    "\n",
    "#    - the key represents the attribute's name \n",
    "\n",
    "#    - the value represents the attribute's content\n",
    "\n",
    "# You can think of attributes as variables, \n",
    "# belonging to a class or an object\n",
    "\n",
    "# Thus, attributes represent the state of the class or object"
   ]
  },
  {
   "cell_type": "code",
   "execution_count": 9,
   "id": "01540f63",
   "metadata": {},
   "outputs": [
    {
     "name": "stdout",
     "output_type": "stream",
     "text": [
      "{}\n"
     ]
    }
   ],
   "source": [
    "# Objects have access to the __dict__ attribute of their class\n",
    "\n",
    "# Let's give it a try!\n",
    "\n",
    "print(empty_object.__dict__)        "
   ]
  },
  {
   "cell_type": "code",
   "execution_count": null,
   "id": "8cbbb492",
   "metadata": {},
   "outputs": [],
   "source": [
    "# Interesting! the dictionary looks empty now...\n",
    "\n",
    "# To understand what's going on, we need to clarify one important point\n",
    "\n",
    "# There are two types of attributes: \n",
    "\n",
    "# - INSTANCE ATTRIBUTES (which belong to the instance) and\n",
    "\n",
    "# - CLASS ATTRIBUTES (which belong to the class)\n",
    "\n",
    "# Note that instance is just another name for object\n",
    "\n",
    "# Objects have access to class attributes as well\n",
    "#   => that's why we are able to access __dict__ from empty_object\n",
    "\n",
    "# However, when accessed from an instance, the __dict__ attribute \n",
    "# only lists the instance attributes for that instance.\n",
    "\n",
    "# That's why the dictionary looks empty: \n",
    "# empty_object doesn't have any instance attribute belonging to it.\n"
   ]
  },
  {
   "cell_type": "code",
   "execution_count": 10,
   "id": "e5afcf24",
   "metadata": {},
   "outputs": [],
   "source": [
    "# In order to add instance attributes, we customise the class constructor:\n",
    "class Trainee:\n",
    "    \n",
    "    # constructor\n",
    "    def __init__(self, name, courses):\n",
    "        # instance attributes\n",
    "        self.name = name\n",
    "        self.courses = courses\n",
    "        \n",
    "# Let's start with some general remarks. Within a class:\n",
    "\n",
    "#   1)   __init__ refers to the constructor of the class\n",
    "\n",
    "#   2)   self refers to the object that we are creating\n",
    "\n",
    "#   3)   the 'dot notation' is used to refer to attributes \n",
    "#        and methods of an instance\n",
    "\n",
    "# Now, a couple more remarks that are specific to our class Trainee:\n",
    "\n",
    "#   4)   name and courses are the constructor's parameters\n",
    "\n",
    "#   5)   self.name and self.courses are new instance attributes\n",
    "#        that we are defining for our new object\n"
   ]
  },
  {
   "cell_type": "code",
   "execution_count": 11,
   "id": "d1436d5d",
   "metadata": {},
   "outputs": [
    {
     "ename": "TypeError",
     "evalue": "__init__() missing 2 required positional arguments: 'name' and 'courses'",
     "output_type": "error",
     "traceback": [
      "\u001b[1;31m---------------------------------------------------------------------------\u001b[0m",
      "\u001b[1;31mTypeError\u001b[0m                                 Traceback (most recent call last)",
      "\u001b[1;32m~\\AppData\\Local\\Temp/ipykernel_16452/851569745.py\u001b[0m in \u001b[0;36m<module>\u001b[1;34m\u001b[0m\n\u001b[0;32m      1\u001b[0m \u001b[1;31m# Let's create an object of our new class:\u001b[0m\u001b[1;33m\u001b[0m\u001b[1;33m\u001b[0m\u001b[1;33m\u001b[0m\u001b[0m\n\u001b[0;32m      2\u001b[0m \u001b[1;33m\u001b[0m\u001b[0m\n\u001b[1;32m----> 3\u001b[1;33m \u001b[0mtrainee\u001b[0m \u001b[1;33m=\u001b[0m \u001b[0mTrainee\u001b[0m\u001b[1;33m(\u001b[0m\u001b[1;33m)\u001b[0m\u001b[1;33m\u001b[0m\u001b[1;33m\u001b[0m\u001b[0m\n\u001b[0m",
      "\u001b[1;31mTypeError\u001b[0m: __init__() missing 2 required positional arguments: 'name' and 'courses'"
     ]
    }
   ],
   "source": [
    "# Let's create an object of our new class:\n",
    "\n",
    "trainee = Trainee()\n"
   ]
  },
  {
   "cell_type": "code",
   "execution_count": null,
   "id": "c7c24639",
   "metadata": {},
   "outputs": [],
   "source": [
    "# Ooops! \n",
    "\n",
    "# Can you guess what happened there?\n"
   ]
  },
  {
   "cell_type": "code",
   "execution_count": null,
   "id": "438e3cc0",
   "metadata": {},
   "outputs": [],
   "source": [
    "# Here's what happened:\n",
    "\n",
    "# Every class has to have (at least) one constructor\n",
    "\n",
    "# When we defined EmptyClass, we didn't provide any constructor\n",
    "\n",
    "# So, in that case, the default no-arg constructor was added implicitly\n",
    "\n",
    "# However, our Trainee class does contain a constructor definition\n",
    "\n",
    "# Therefore, the default constructor wasn't added, as it wasn't needed\n",
    "\n",
    "# Moreover, since the constructor definition contains two parameters\n",
    "\n",
    "# We need to pass two arguments when we invoke it\n"
   ]
  },
  {
   "cell_type": "code",
   "execution_count": 12,
   "id": "882abe15",
   "metadata": {},
   "outputs": [],
   "source": [
    "# Let's try again:\n",
    "\n",
    "trainee = Trainee(\"Luca\", [])\n"
   ]
  },
  {
   "cell_type": "code",
   "execution_count": 13,
   "id": "cb36935f",
   "metadata": {},
   "outputs": [
    {
     "name": "stdout",
     "output_type": "stream",
     "text": [
      "trainee.name = Luca\n",
      "trainee.courses = []\n"
     ]
    }
   ],
   "source": [
    "# Great! Now we can access the attributes from the object:\n",
    "\n",
    "print(\"trainee.name =\", trainee.name)      \n",
    "print(\"trainee.courses =\", trainee.courses)\n",
    "\n",
    "# Notice that we are using the dot notation again. Except that: \n",
    "#   - inside of the class, we use self to refer to the current instance\n",
    "#   - outside of the class, we use the name of the variable to which \n",
    "#     the object was assigned. "
   ]
  },
  {
   "cell_type": "code",
   "execution_count": 14,
   "id": "8d60d23e",
   "metadata": {},
   "outputs": [
    {
     "data": {
      "text/plain": [
       "{'name': 'Luca', 'courses': []}"
      ]
     },
     "execution_count": 14,
     "metadata": {},
     "output_type": "execute_result"
    }
   ],
   "source": [
    "# We can also check the list of instance attributes and their values:\n",
    "\n",
    "trainee.__dict__"
   ]
  },
  {
   "cell_type": "code",
   "execution_count": 15,
   "id": "f421c34b",
   "metadata": {},
   "outputs": [
    {
     "data": {
      "text/plain": [
       "{'name': 'Luca Fossati', 'courses': ['Python']}"
      ]
     },
     "execution_count": 15,
     "metadata": {},
     "output_type": "execute_result"
    }
   ],
   "source": [
    "# Just as attributes can be accessed, they can also be modified:\n",
    "\n",
    "trainee.name='Luca Fossati'\n",
    "trainee.courses.append('Python')\n",
    "\n",
    "trainee.__dict__\n"
   ]
  },
  {
   "cell_type": "code",
   "execution_count": 16,
   "id": "c4ca193c",
   "metadata": {},
   "outputs": [
    {
     "data": {
      "text/plain": [
       "{'name': 'Luca Fossati', 'courses': ['Python'], 'initials': 'LF'}"
      ]
     },
     "execution_count": 16,
     "metadata": {},
     "output_type": "execute_result"
    }
   ],
   "source": [
    "# Python is a dynamically typed language\n",
    "\n",
    "# One implication is that new attributes can be added dynamically\n",
    "# (i.e. outside of the constructor, and after the object is created):\n",
    "\n",
    "trainee.initials='LF'\n",
    "\n",
    "trainee.__dict__\n",
    "\n",
    "# IMPORTANT: While it's possible to add attributes to objects that have\n",
    "#            already been created, this practice is discouraged.\n",
    "#            In fact, one of the four pillars of OOD (encapsulation)\n",
    "#            forbids direct access to attributes from outside of the class.\n",
    "#            Instead, we should use methods to do that.\n",
    "#            We will talk more about encapsulation in a future demo."
   ]
  },
  {
   "cell_type": "code",
   "execution_count": 28,
   "id": "bb6b6bc7",
   "metadata": {},
   "outputs": [],
   "source": [
    "# In the previous example, all attributes were instance attributes\n",
    "\n",
    "# We also saw that the classes we define also contain some class \n",
    "# attributes by default (e.g. __dict__)\n",
    "\n",
    "# Let's see how we can add a class attribute of our own:\n",
    "\n",
    "class Trainee: \n",
    "    # class attributes\n",
    "    count = 0    # instance counter (shared by all instances) \n",
    "\n",
    "    # constructor\n",
    "    def __init__(self, name, courses):\n",
    "        # instance attributes\n",
    "        self.name = name\n",
    "        self.courses = courses\n",
    "        self.__class__.count += 1    # increment counter \n"
   ]
  },
  {
   "cell_type": "code",
   "execution_count": 29,
   "id": "3b845b34",
   "metadata": {},
   "outputs": [
    {
     "name": "stdout",
     "output_type": "stream",
     "text": [
      "{'__module__': '__main__', 'count': 0, '__init__': <function Trainee.__init__ at 0x000001AF185C33A0>, '__dict__': <attribute '__dict__' of 'Trainee' objects>, '__weakref__': <attribute '__weakref__' of 'Trainee' objects>, '__doc__': None}\n"
     ]
    }
   ],
   "source": [
    "# Let's check that count was added as a class attribute:\n",
    "\n",
    "print(Trainee.__dict__)"
   ]
  },
  {
   "cell_type": "code",
   "execution_count": 30,
   "id": "eb9713db",
   "metadata": {},
   "outputs": [
    {
     "name": "stdout",
     "output_type": "stream",
     "text": [
      "{'name': 'Luca', 'courses': []}\n"
     ]
    }
   ],
   "source": [
    "# Let's also check that it was not added as an instance attribute:\n",
    "\n",
    "luca = Trainee('Luca', [])\n",
    "print(luca.__dict__)"
   ]
  },
  {
   "cell_type": "code",
   "execution_count": 31,
   "id": "9e233f89",
   "metadata": {},
   "outputs": [
    {
     "name": "stdout",
     "output_type": "stream",
     "text": [
      "Accessing count attribute from class:  1\n",
      "Accessing count attribute from instance:  1\n"
     ]
    }
   ],
   "source": [
    "# Even though class attributes belong to the class,\n",
    "# they can be accessed both from the class and from \n",
    "# its instances:\n",
    "\n",
    "print(\"Accessing count attribute from class: \", Trainee.count)\n",
    "print(\"Accessing count attribute from instance: \", luca.count)\n",
    "\n",
    "# Question: why is the value 1?\n"
   ]
  },
  {
   "cell_type": "code",
   "execution_count": 32,
   "id": "49dd875b",
   "metadata": {},
   "outputs": [
    {
     "name": "stdout",
     "output_type": "stream",
     "text": [
      "Accessing count attribute from class:  1\n",
      "Accessing count attribute from instance:  10\n"
     ]
    }
   ],
   "source": [
    "# Nevertheless, you should refrain from accessing a class attribute\n",
    "# from an instance, as it makes the code less readable.\n",
    "\n",
    "# It may also lead to unwanted consequences, if you try to write on it.\n",
    "\n",
    "luca.count = 10\n",
    "\n",
    "print(\"Accessing count attribute from class: \", Trainee.count)\n",
    "print(\"Accessing count attribute from instance: \", luca.count)\n"
   ]
  },
  {
   "cell_type": "code",
   "execution_count": 33,
   "id": "715c11a5",
   "metadata": {},
   "outputs": [
    {
     "name": "stdout",
     "output_type": "stream",
     "text": [
      "Class attributes:\n",
      "{'__module__': '__main__', 'count': 1, '__init__': <function Trainee.__init__ at 0x000001AF185C33A0>, '__dict__': <attribute '__dict__' of 'Trainee' objects>, '__weakref__': <attribute '__weakref__' of 'Trainee' objects>, '__doc__': None}\n",
      "\n",
      "Instance attributes:\n",
      "{'name': 'Luca', 'courses': [], 'count': 10}\n"
     ]
    }
   ],
   "source": [
    "# To understand what happened, let's check the list of attributes again:\n",
    "\n",
    "print('Class attributes:')\n",
    "print(Trainee.__dict__)\n",
    "\n",
    "print('\\nInstance attributes:')\n",
    "print(luca.__dict__)"
   ]
  },
  {
   "cell_type": "code",
   "execution_count": null,
   "id": "063df6a5",
   "metadata": {},
   "outputs": [],
   "source": [
    "# It looks like we now have two different variables called count:\n",
    "\n",
    "#    - one is the class variable, whose value is 1\n",
    "\n",
    "#    - the other is an instance variable that belongs to the instance\n",
    "#      assigned to the variable called 'luca', and whose value is 10\n",
    "\n",
    "# This is again due to the fact that Python is dynamically typed\n",
    "# (the assignment created a new variable)\n"
   ]
  },
  {
   "cell_type": "code",
   "execution_count": 34,
   "id": "1df6789f",
   "metadata": {},
   "outputs": [
    {
     "name": "stdout",
     "output_type": "stream",
     "text": [
      "{'name': 'Alejandro', 'courses': []}\n"
     ]
    }
   ],
   "source": [
    "# While a class variable belongs to the class and can be accessed \n",
    "# from any instance, an instance variable belongs to one specific\n",
    "# instance:\n",
    "\n",
    "alejandro = Trainee('Alejandro', [])\n",
    "\n",
    "print(alejandro.__dict__)\n",
    "\n",
    "# As you can see, the count variable doesn't appear here\n"
   ]
  },
  {
   "cell_type": "code",
   "execution_count": 35,
   "id": "d3616fda",
   "metadata": {},
   "outputs": [
    {
     "name": "stdout",
     "output_type": "stream",
     "text": [
      "Accessing count from class:  2\n",
      "Accessing count from instance 'luca':  10\n",
      "Accessing count from instance 'alejandro':  2\n"
     ]
    }
   ],
   "source": [
    "# Comparing the count values across instances and class:\n",
    "\n",
    "print(\"Accessing count from class: \", Trainee.count)\n",
    "print(\"Accessing count from instance 'luca': \", luca.count)\n",
    "print(\"Accessing count from instance 'alejandro': \", alejandro.count)\n",
    "\n",
    "# We see that alejandro's value aligns with that of the class attribute"
   ]
  },
  {
   "cell_type": "code",
   "execution_count": 54,
   "id": "21ceded0",
   "metadata": {},
   "outputs": [],
   "source": [
    "# It is finally time to introduce methods\n",
    "\n",
    "# Let's modify our Trainee class by adding a method to it:\n",
    "\n",
    "class Trainee:\n",
    "\n",
    "    # class attributes\n",
    "    count = 0    # instance counter (shared by all instances) \n",
    "\n",
    "    # constructor\n",
    "    def __init__(self, name, courses):\n",
    "        # instance attributes\n",
    "        self.name = name\n",
    "        self.courses = courses\n",
    "        self.__class__.count += 1    # increment counter \n",
    "    \n",
    "    # instance methods\n",
    "    def assign_course(self, course):\n",
    "        self.courses[course] = 0\n",
    "        return                       # return nothing\n",
    "    \n",
    "    def show_courses(self): \n",
    "        print('Trainee name: ', self.name, '\\tList of courses: ')\n",
    "        for course in self.courses:  \n",
    "            print(course)             \n",
    "        print()\n",
    "        return self.courses          # return list of courses\n",
    "\n",
    "    \n",
    "# NOTE: we have also changed one attribute. Can you guess which one?"
   ]
  },
  {
   "cell_type": "code",
   "execution_count": 38,
   "id": "81bdf973",
   "metadata": {},
   "outputs": [
    {
     "data": {
      "text/plain": [
       "1"
      ]
     },
     "execution_count": 38,
     "metadata": {},
     "output_type": "execute_result"
    }
   ],
   "source": [
    "# Just as attributes represent the state of classes and objects, \n",
    "# methods represent their behaviour\n",
    "\n",
    "# You can think of them as functions, with one difference\n",
    "\n",
    "# Functions are called directly, as in:\n",
    "\n",
    "abs(-1)\n",
    "\n",
    "# Methods are invoked on objects or on classes (see next cell)\n",
    "\n",
    "# Whether we invoke a method on an object or a class has to do\n",
    "# with whether they are INSTANCE METHODS or CLASS METHODS\n"
   ]
  },
  {
   "cell_type": "code",
   "execution_count": 55,
   "id": "6bc5541b",
   "metadata": {},
   "outputs": [
    {
     "name": "stdout",
     "output_type": "stream",
     "text": [
      "Trainee name:  Luca \tList of courses: \n",
      "\n",
      "Trainee name:  Luca \tList of courses: \n",
      "Python\n",
      "\n"
     ]
    },
    {
     "data": {
      "text/plain": [
       "{'Python': 0}"
      ]
     },
     "execution_count": 55,
     "metadata": {},
     "output_type": "execute_result"
    }
   ],
   "source": [
    "# Let's instantiate an object of our newly modified class:\n",
    "\n",
    "luca = Trainee(\"Luca\", {}) \n",
    "\n",
    "luca.show_courses()\n",
    "\n",
    "# To invoke an instance method, we use the dot notation on the object:\n",
    "\n",
    "luca.assign_course('Python')\n",
    "\n",
    "luca.show_courses()"
   ]
  },
  {
   "cell_type": "code",
   "execution_count": 56,
   "id": "92046223",
   "metadata": {},
   "outputs": [
    {
     "name": "stdout",
     "output_type": "stream",
     "text": [
      "Trainee name:  Alejandro \tList of courses: \n",
      "SQL\n",
      "\n",
      "Trainee name:  Luca \tList of courses: \n",
      "Python\n",
      "\n"
     ]
    },
    {
     "data": {
      "text/plain": [
       "{'Python': 0}"
      ]
     },
     "execution_count": 56,
     "metadata": {},
     "output_type": "execute_result"
    }
   ],
   "source": [
    "# Instance methods, like instance attributes, belong to the instance\n",
    "# and they only affect the instance that they are invoked on\n",
    "\n",
    "#To see that, let's create a new object and call assign_course on it:\n",
    "\n",
    "alejandro = Trainee(\"Alejandro\", {}) \n",
    "alejandro.assign_course('SQL')\n",
    "\n",
    "# now let's check that the last method call only modified the object\n",
    "# that it was invoked on:\n",
    "\n",
    "alejandro.show_courses()\n",
    "luca.show_courses()\n"
   ]
  },
  {
   "cell_type": "code",
   "execution_count": 43,
   "id": "5911200c",
   "metadata": {},
   "outputs": [
    {
     "data": {
      "text/plain": [
       "['__class__',\n",
       " '__delattr__',\n",
       " '__dict__',\n",
       " '__dir__',\n",
       " '__doc__',\n",
       " '__eq__',\n",
       " '__format__',\n",
       " '__ge__',\n",
       " '__getattribute__',\n",
       " '__gt__',\n",
       " '__hash__',\n",
       " '__init__',\n",
       " '__init_subclass__',\n",
       " '__le__',\n",
       " '__lt__',\n",
       " '__module__',\n",
       " '__ne__',\n",
       " '__new__',\n",
       " '__reduce__',\n",
       " '__reduce_ex__',\n",
       " '__repr__',\n",
       " '__setattr__',\n",
       " '__sizeof__',\n",
       " '__str__',\n",
       " '__subclasshook__',\n",
       " '__weakref__',\n",
       " 'assign_course',\n",
       " 'count',\n",
       " 'courses',\n",
       " 'name']"
      ]
     },
     "execution_count": 43,
     "metadata": {},
     "output_type": "execute_result"
    }
   ],
   "source": [
    "# We have already used the dir function applied to a class\n",
    "# we can also apply it to an object\n",
    "\n",
    "dir(luca)\n",
    "\n",
    "# In this case, it includes the object's own attributes and methods"
   ]
  },
  {
   "cell_type": "code",
   "execution_count": 44,
   "id": "c6a725d7",
   "metadata": {},
   "outputs": [
    {
     "name": "stdout",
     "output_type": "stream",
     "text": [
      "assign_course\n",
      "count\n",
      "courses\n",
      "name\n"
     ]
    }
   ],
   "source": [
    "# Use the following for a nicer-looking output\n",
    "# (assuming you are not interested in hidden attributes/methods):\n",
    "\n",
    "for attribute in dir(luca):\n",
    "    if not attribute.startswith('__'):\n",
    "        print(attribute)"
   ]
  },
  {
   "cell_type": "code",
   "execution_count": 6,
   "id": "d474e7a9",
   "metadata": {},
   "outputs": [],
   "source": [
    "# Python classes have another constituent component \n",
    "\n",
    "# It's called the DESTRUCTOR \n",
    "\n",
    "# Its purpose is to free memory by removing an existing object\n",
    "\n",
    "# We can also include additional logic to update class variables \n",
    "\n",
    "# Let's add a destructor to our Trainee class\n",
    "\n",
    "class Trainee:\n",
    "\n",
    "    # class attributes\n",
    "    count = 0    # instance counter (shared by all instances) \n",
    "\n",
    "    # constructor\n",
    "    def __init__(self, name, courses):\n",
    "        # instance attributes\n",
    "        self.name = name\n",
    "        self.courses = courses\n",
    "        self.__class__.count += 1    # increment counter \n",
    "    \n",
    "    # instance methods\n",
    "    def assign_course(self, course):\n",
    "        self.courses[course] = 0\n",
    "        return                       # return nothing\n",
    "    \n",
    "    def show_courses(self): \n",
    "        print('Trainee name: ', self.name, '\\tList of courses: ')\n",
    "        for course in self.courses:  \n",
    "            print(course)             \n",
    "        print()\n",
    "        return self.courses          # return list of courses\n",
    "\n",
    "    def print_count(self):\n",
    "        print('count =', self.__class__.count)  \n",
    "        \n",
    "    # class destructor\n",
    "    def __del__(self):\n",
    "        self.__class__.count -= 1  \n"
   ]
  },
  {
   "cell_type": "code",
   "execution_count": 7,
   "id": "6b897aa2",
   "metadata": {},
   "outputs": [
    {
     "name": "stdout",
     "output_type": "stream",
     "text": [
      "No instances yet:\n",
      "Trainee.count = 0\n",
      "\n",
      "Added one instance:\n",
      "{'name': 'Luca', 'courses': {'SQL': 85, 'UNIX': 75, 'Python': 77}}\n",
      "count = 1\n",
      "\n",
      "Added one more instance:\n",
      "{'name': 'Alejandro', 'courses': {'Java': 80, 'Web Apps': 90}}\n",
      "count = 2\n",
      "\n",
      "Deleted one instance:\n",
      "count = 1\n",
      "\n",
      "Deleted all instances:\n",
      "Trainee.count = 0\n"
     ]
    }
   ],
   "source": [
    "# Let's see how the count attribute changes, as we add and delete instances\n",
    "\n",
    "print('No instances yet:')\n",
    "print(\"Trainee.count =\", Trainee.count)  \n",
    "\n",
    "luca = Trainee(\"Luca\", {'SQL':85, 'UNIX':75, 'Python':77})\n",
    "\n",
    "print()\n",
    "print('Added one instance:')\n",
    "print(luca.__dict__)  \n",
    "# Since we now have an object we can use the print_count() method on it\n",
    "luca.print_count()            \n",
    "# If we printed Trainee.count, we would get the same result (try!)\n",
    "\n",
    "alejandro = Trainee(\"Alejandro\", {'Java':80, 'Web Apps':90})\n",
    "\n",
    "print()\n",
    "print('Added one more instance:')\n",
    "print(alejandro.__dict__)  \n",
    "alejandro.print_count() # it doesn't matter which instance we invoke it on\n",
    "\n",
    "# Using del keyword to invoke the class destructor\n",
    "del alejandro\n",
    "\n",
    "print()\n",
    "print('Deleted one instance:')\n",
    "luca.print_count() # it doesn't matter which instance we invoke it on\n",
    "\n",
    "del luca\n",
    "\n",
    "print()\n",
    "print('Deleted all instances:')\n",
    "print(\"Trainee.count =\", Trainee.count)  "
   ]
  },
  {
   "cell_type": "code",
   "execution_count": null,
   "id": "2cb03723",
   "metadata": {},
   "outputs": [],
   "source": [
    "# Python follows the 'pass-by-object reference' approach\n",
    "# (for both assignments and parameter-passing)\n",
    "\n",
    "# The key concept is that variables do not contain an objects\n",
    "\n",
    "# Instead, a variable contains a reference to an object\n",
    "\n",
    "# When we make an assignment:\n",
    "\n",
    "#    1) a copy of the object reference is made ...\n",
    "\n",
    "#    2) ... and assigned to the variable\n"
   ]
  },
  {
   "cell_type": "code",
   "execution_count": 16,
   "id": "59694b14",
   "metadata": {},
   "outputs": [
    {
     "name": "stdout",
     "output_type": "stream",
     "text": [
      "trainee1           : <__main__.Trainee object at 0x000002D8111B0550>\n",
      "trainee1_second_ref: <__main__.Trainee object at 0x000002D8111B0550>\n",
      "trainees_list[0]   : <__main__.Trainee object at 0x000002D8111B0550>\n",
      "trainee1           : Luca\n",
      "trainee1_second_ref: Luca\n",
      "trainees_list[0]   : Luca\n",
      "trainee1           : Luca Fossati\n",
      "trainee1_second_ref: Luca Fossati\n",
      "trainees_list[0]   : Luca Fossati\n"
     ]
    }
   ],
   "source": [
    "# The following examples should clarify the concept:\n",
    "\n",
    "trainee1 = Trainee(\"Luca\", {'SQL':85, 'UNIX':75, 'Python':77})\n",
    "\n",
    "trainee1_second_ref = trainee1\n",
    "\n",
    "trainees_list = []\n",
    "trainees_list.append(trainee1)\n",
    "\n",
    "# all variables point to the same object:\n",
    "print('trainee1           :', trainee1)\n",
    "print('trainee1_second_ref:', trainee1_second_ref)\n",
    "print('trainees_list[0]   :', trainees_list[0])\n",
    "\n",
    "# Let's print the value of attribute name, before we change it\n",
    "print('trainee1           :', trainee1.name)\n",
    "print('trainee1_second_ref:', trainee1_second_ref.name)\n",
    "print('trainees_list[0]   :', trainees_list[0].name)\n",
    "\n",
    "# modifying a value of an attribute of the object\n",
    "# will be reflected in all references to the same object\n",
    "trainees_list[0].name = trainees_list[0].name + ' Fossati'\n",
    "print('trainee1           :', trainee1.name)\n",
    "print('trainee1_second_ref:', trainee1_second_ref.name)\n",
    "print('trainees_list[0]   :', trainees_list[0].name)\n"
   ]
  },
  {
   "cell_type": "code",
   "execution_count": 17,
   "id": "10f949ee",
   "metadata": {},
   "outputs": [
    {
     "name": "stdout",
     "output_type": "stream",
     "text": [
      "trainee1's reference :  <__main__.Trainee object at 0x000002D8111B0550>\n",
      "parameter's reference:  <__main__.Trainee object at 0x000002D8111B0550>\n",
      "parameter's name:  Luca Fossati\n",
      "Python\n"
     ]
    }
   ],
   "source": [
    "# Parameter-passing follows the same approach\n",
    "\n",
    "def print_parameter(param):\n",
    "    print(\"parameter's reference: \", param)\n",
    "    print(\"parameter's name: \", param.name)    \n",
    "\n",
    "def add_attribute(param):\n",
    "    param.stream = \"Python\"\n",
    "\n",
    "# Checking that the parameter variable points to the object we are passing:\n",
    "print(\"trainee1's reference : \", trainee1)\n",
    "print_parameter(trainee1)\n",
    "\n",
    "# Checking that changes made inside the method affect external variable:\n",
    "add_attribute(trainee1)\n",
    "print(trainee1.stream)\n"
   ]
  },
  {
   "cell_type": "code",
   "execution_count": 10,
   "id": "854c443c",
   "metadata": {},
   "outputs": [
    {
     "name": "stdout",
     "output_type": "stream",
     "text": [
      "Rhubarb\n",
      "2.0\n"
     ]
    }
   ],
   "source": [
    "# Class and static methods are bound to the class, rather than the instance\n",
    "#\n",
    "# Class methods can't access instance attributes, \n",
    "# but they can access and modify class attributes.\n",
    "# This is done via the implicit first argument 'cls' (which replaces 'self').\n",
    "#\n",
    "# Static methods can't access any attribute, not even class attributes.\n",
    "# They are still part of the class, as they perform functions that\n",
    "# logically belong to the class.\n",
    "# Static methods have no implicit first argument.\n",
    "# \n",
    "class MyClass:\n",
    "    name = None  # class attribute\n",
    "\n",
    "    @classmethod\n",
    "    def set_fruit(cls):\n",
    "        cls.name = \"Rhubarb\"\n",
    "        \n",
    "    @staticmethod\n",
    "    def calculate_vat(in_value):\n",
    "        return in_value * 20 /100\n",
    " \n",
    "MyClass.set_fruit()   # sets the value of the class attribute 'name' to 'Rhubarb'\n",
    "print(MyClass.name)   # prints Rhubarb\n",
    "print(MyClass.calculate_vat(10)) # prints 2.0"
   ]
  },
  {
   "cell_type": "code",
   "execution_count": 11,
   "id": "396df328",
   "metadata": {},
   "outputs": [],
   "source": [
    "# One last example\n",
    "\n",
    "class ClassName():\n",
    "    c_var = 'class variable'\n",
    "\n",
    "    def __init__(self):\n",
    "        # instance attribute\n",
    "       self.i_var =  'instance variable'\n",
    "\n",
    "    @classmethod\n",
    "    def print_class_attr_using_cls(cls):\n",
    "        print(\"Class's class attribute c_var =\", cls.c_var)\n",
    "        #print(cls.ivar)  # raises AttributeError\n",
    "\n",
    "    # instance methods\n",
    "    def print_class_attr_using_self(self):\n",
    "        print(\"Class's class attribute c_var =\", self.__class__.c_var)\n",
    "        print(\"Object's class attribute c_var =\", self.c_var)\n",
    "        \n",
    "    def print_instance_attr(self):\n",
    "        print(\"Object's instance attribute i_var =\", self.i_var)"
   ]
  },
  {
   "cell_type": "code",
   "execution_count": 12,
   "id": "f275c67a",
   "metadata": {},
   "outputs": [
    {
     "name": "stdout",
     "output_type": "stream",
     "text": [
      "Class's class attribute c_var = class variable\n",
      "Class's class attribute c_var = class variable\n",
      "Object's class attribute c_var = class variable\n",
      "Object's instance attribute i_var = instance variable\n"
     ]
    }
   ],
   "source": [
    "# client code\n",
    "obj_name = ClassName()\n",
    "obj_name.print_class_attr_using_cls()\n",
    "obj_name.print_class_attr_using_self()\n",
    "obj_name.print_instance_attr()"
   ]
  }
 ],
 "metadata": {
  "kernelspec": {
   "display_name": "Python 3 (ipykernel)",
   "language": "python",
   "name": "python3"
  },
  "language_info": {
   "codemirror_mode": {
    "name": "ipython",
    "version": 3
   },
   "file_extension": ".py",
   "mimetype": "text/x-python",
   "name": "python",
   "nbconvert_exporter": "python",
   "pygments_lexer": "ipython3",
   "version": "3.8.12"
  }
 },
 "nbformat": 4,
 "nbformat_minor": 5
}
