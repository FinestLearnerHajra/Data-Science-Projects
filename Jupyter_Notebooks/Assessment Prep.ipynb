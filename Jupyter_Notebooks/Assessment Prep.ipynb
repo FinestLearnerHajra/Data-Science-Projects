{
 "cells": [
  {
   "cell_type": "code",
   "execution_count": 4,
   "id": "e19333fa",
   "metadata": {},
   "outputs": [],
   "source": [
    "def salaries_with_bonus_a_i(in_func, in_list):\n",
    "    return list(map(in_func, in_list))"
   ]
  },
  {
   "cell_type": "code",
   "execution_count": 5,
   "id": "00aae730",
   "metadata": {},
   "outputs": [
    {
     "data": {
      "text/plain": [
       "[73500.0, 52500.0, 94500.0, 110250.0, 315000.0, 89250.0]"
      ]
     },
     "execution_count": 5,
     "metadata": {},
     "output_type": "execute_result"
    }
   ],
   "source": [
    "salaries = [70000, 50000, 90000, 105000, 300000, 85000]\n",
    "\n",
    "salaries_with_bonus_a_i(lambda s: s * 1.05, salaries)"
   ]
  },
  {
   "cell_type": "code",
   "execution_count": 6,
   "id": "bb000935",
   "metadata": {},
   "outputs": [],
   "source": [
    "def salaries_with_bonus_a_ii(in_func, in_list):\n",
    "    return [ in_func(e) for e in in_list ]"
   ]
  },
  {
   "cell_type": "code",
   "execution_count": 7,
   "id": "8a00129e",
   "metadata": {},
   "outputs": [
    {
     "data": {
      "text/plain": [
       "[73500.0, 52500.0, 94500.0, 110250.0, 315000.0, 89250.0]"
      ]
     },
     "execution_count": 7,
     "metadata": {},
     "output_type": "execute_result"
    }
   ],
   "source": [
    "salaries_with_bonus_a_ii(lambda s: s * 1.05, salaries)"
   ]
  },
  {
   "cell_type": "code",
   "execution_count": 8,
   "id": "cdbbbbd9",
   "metadata": {},
   "outputs": [],
   "source": [
    "salaries_with_bonus_b_i = \\\n",
    "    lambda in_func, in_list: list(map(in_func, in_list))\n"
   ]
  },
  {
   "cell_type": "code",
   "execution_count": 9,
   "id": "85777b8f",
   "metadata": {},
   "outputs": [
    {
     "data": {
      "text/plain": [
       "[73500.0, 52500.0, 94500.0, 110250.0, 315000.0, 89250.0]"
      ]
     },
     "execution_count": 9,
     "metadata": {},
     "output_type": "execute_result"
    }
   ],
   "source": [
    "salaries_with_bonus_b_i(lambda s: s * 1.05, salaries)"
   ]
  },
  {
   "cell_type": "code",
   "execution_count": 10,
   "id": "d4f63e07",
   "metadata": {},
   "outputs": [],
   "source": [
    "salaries_with_bonus_b_ii = \\\n",
    "    lambda in_func, in_list: [ in_func(e) for e in in_list ]"
   ]
  },
  {
   "cell_type": "code",
   "execution_count": 11,
   "id": "0ecf82ba",
   "metadata": {},
   "outputs": [
    {
     "data": {
      "text/plain": [
       "[73500.0, 52500.0, 94500.0, 110250.0, 315000.0, 89250.0]"
      ]
     },
     "execution_count": 11,
     "metadata": {},
     "output_type": "execute_result"
    }
   ],
   "source": [
    "salaries_with_bonus_b_ii(lambda s: s * 1.05, salaries)"
   ]
  },
  {
   "cell_type": "code",
   "execution_count": 12,
   "id": "41e3d847",
   "metadata": {},
   "outputs": [],
   "source": [
    "def salaries_with_bonus_c_i(salaries):\n",
    "    return lambda in_func : list(map(in_func, salaries))"
   ]
  },
  {
   "cell_type": "code",
   "execution_count": 13,
   "id": "83e2cc92",
   "metadata": {},
   "outputs": [
    {
     "data": {
      "text/plain": [
       "[73500.0, 52500.0, 94500.0, 110250.0, 315000.0, 89250.0]"
      ]
     },
     "execution_count": 13,
     "metadata": {},
     "output_type": "execute_result"
    }
   ],
   "source": [
    "salaries_with_bonus_c_i(salaries)(lambda s: s * 1.05)"
   ]
  },
  {
   "cell_type": "code",
   "execution_count": 14,
   "id": "b71f0d76",
   "metadata": {},
   "outputs": [],
   "source": [
    "salaries_with_bonus_c_ii = \\\n",
    "    lambda salaries : lambda in_func : list(map(in_func, salaries))"
   ]
  },
  {
   "cell_type": "code",
   "execution_count": 15,
   "id": "0eee8a8d",
   "metadata": {},
   "outputs": [
    {
     "data": {
      "text/plain": [
       "[73500.0, 52500.0, 94500.0, 110250.0, 315000.0, 89250.0]"
      ]
     },
     "execution_count": 15,
     "metadata": {},
     "output_type": "execute_result"
    }
   ],
   "source": [
    "salaries_with_bonus_c_ii(salaries)(lambda s: s * 1.05)"
   ]
  }
 ],
 "metadata": {
  "kernelspec": {
   "display_name": "Python 3 (ipykernel)",
   "language": "python",
   "name": "python3"
  },
  "language_info": {
   "codemirror_mode": {
    "name": "ipython",
    "version": 3
   },
   "file_extension": ".py",
   "mimetype": "text/x-python",
   "name": "python",
   "nbconvert_exporter": "python",
   "pygments_lexer": "ipython3",
   "version": "3.8.12"
  }
 },
 "nbformat": 4,
 "nbformat_minor": 5
}
