{
 "cells": [
  {
   "cell_type": "code",
   "execution_count": 1,
   "id": "1dd685b3",
   "metadata": {},
   "outputs": [],
   "source": [
    "# example of a class with private attributes\n",
    "class Rectangle:\n",
    "    def __init__(self, length, width):\n",
    "        self.__length = length  # private attribute\n",
    "        self.__width = width    # private attribute\n",
    "\n",
    "# The double underscore prefix marks an instance variable as private."
   ]
  },
  {
   "cell_type": "code",
   "execution_count": 2,
   "id": "c9e89c52",
   "metadata": {},
   "outputs": [
    {
     "name": "stdout",
     "output_type": "stream",
     "text": [
      "['_Rectangle__length', '_Rectangle__width', '__class__', '__delattr__', '__dict__', '__dir__', '__doc__', '__eq__', '__format__', '__ge__', '__getattribute__', '__gt__', '__hash__', '__init__', '__init_subclass__', '__le__', '__lt__', '__module__', '__ne__', '__new__', '__reduce__', '__reduce_ex__', '__repr__', '__setattr__', '__sizeof__', '__str__', '__subclasshook__', '__weakref__']\n"
     ]
    }
   ],
   "source": [
    "rectangle1 = Rectangle(10, 5)\n",
    "\n",
    "# Recall that dir(rectangle1) lists all attributes and methods available \n",
    "# for the rectangle1 object.\n",
    "\n",
    "print(dir(rectangle1))\n",
    "\n",
    "# Notice that attributes '__length' & '__width' are not listed. \n",
    "# They are replaced by: '_Rectangle__length' & '_Rectangle__width'\n",
    "\n",
    "# This is because Python performs name mangling on private variables. \n",
    "# Every member with a double underscore will be changed to \n",
    "#\n",
    "# _classname__variablename \n",
    "#\n",
    "# It can still be accessed from outside the class through \n",
    "#\n",
    "# object._classname__variablename \n",
    "#\n",
    "# but the practice should be refrained.\n",
    "\n",
    "# Name mangling is all about safety and not security.\n",
    "# It protects against accidental overriding. \n",
    "# It does not protect against intentional wrongdoing. \n"
   ]
  },
  {
   "cell_type": "code",
   "execution_count": 4,
   "id": "d2bfad13",
   "metadata": {},
   "outputs": [],
   "source": [
    "# example of a class with private methods\n",
    "class Rectangle:\n",
    "    def __init__(self, length, width):\n",
    "        self.length = length  # public attribute\n",
    "        self.width = width    # public attribute\n",
    "        \n",
    "    # private methods\n",
    "    def __isValidLength(self, length):\n",
    "        return length >= 0\n",
    "    def __isValidWidth(self, width):\n",
    "        return width >= 0\n",
    " \n",
    "    # public method calling private methods\n",
    "    def area(self, length, width):\n",
    "        if self.__isValidLength(length) and self.__isValidWidth(width):\n",
    "            return length * width\n",
    "        else:\n",
    "            return None\n"
   ]
  },
  {
   "cell_type": "code",
   "execution_count": 5,
   "id": "ad96fc36",
   "metadata": {},
   "outputs": [
    {
     "name": "stdout",
     "output_type": "stream",
     "text": [
      "50\n",
      "True\n"
     ]
    }
   ],
   "source": [
    "rectangle1 = Rectangle(10, 5)\n",
    "\n",
    "# invoking \"__isValidLength\" from outside the class throws an error:\n",
    "#print(rectangle1.__isValidLength(100))\n",
    "\n",
    "# However, private methods can be accessed by calling the private methods \n",
    "# via public methods (no errors or warnings are issued)\n",
    "print(rectangle1.area(10, 5))\n",
    "\n",
    "# calling a private method through name mangling works but issues a warning:\n",
    "print(rectangle1._Rectangle__isValidLength(100))\n",
    "# NOTE: Warnings may not be displayed in some IDEs (Jupyter, ...)"
   ]
  },
  {
   "cell_type": "code",
   "execution_count": 6,
   "id": "187a3dc6",
   "metadata": {},
   "outputs": [],
   "source": [
    "# Example of a class with protected attributes\n",
    "class Rectangle:\n",
    "    def __init__(self, length, width):\n",
    "        self._length = length  # protected attribute\n",
    "        self._width = width    # protected attribute\n",
    "\n",
    "# The underscore prefix for an instance variable marks it as protected.\n",
    "# Protected variables are meant to be accessed from within the class \n",
    "# or from one of its child classes..."
   ]
  },
  {
   "cell_type": "code",
   "execution_count": 7,
   "id": "aeccdd07",
   "metadata": {},
   "outputs": [
    {
     "name": "stdout",
     "output_type": "stream",
     "text": [
      "rectangle1._length = 10\n",
      "rectangle1._width = 5\n",
      "['__class__', '__delattr__', '__dict__', '__dir__', '__doc__', '__eq__', '__format__', '__ge__', '__getattribute__', '__gt__', '__hash__', '__init__', '__init_subclass__', '__le__', '__lt__', '__module__', '__ne__', '__new__', '__reduce__', '__reduce_ex__', '__repr__', '__setattr__', '__sizeof__', '__str__', '__subclasshook__', '__weakref__', '_length', '_width']\n"
     ]
    }
   ],
   "source": [
    "# ... Nevertheless, accessing \"_length\" and \"_width\" from outside the class \n",
    "# does not throw any error, only warnings.\n",
    "# NOTE: Warnings may not be displayed in some IDEs (Jupyter, ...)\n",
    "\n",
    "rectangle1 = Rectangle(10, 5)\n",
    "\n",
    "print('rectangle1._length =', rectangle1._length)  \n",
    "print('rectangle1._width =', rectangle1._width)   \n",
    "\n",
    "# dir(rectangle1) lists both _length and _width instance attributes\n",
    "print(dir(rectangle1))     "
   ]
  },
  {
   "cell_type": "code",
   "execution_count": 8,
   "id": "fa31f900",
   "metadata": {},
   "outputs": [
    {
     "name": "stdout",
     "output_type": "stream",
     "text": [
      "rectangle1._length = 200\n",
      "rectangle1._width = 100\n"
     ]
    }
   ],
   "source": [
    "# Protected variables can also be modified: \n",
    "rectangle1._length = 200\n",
    "rectangle1._width = 100\n",
    "\n",
    "print('rectangle1._length =', rectangle1._length)\n",
    "print('rectangle1._width =', rectangle1._width)\n",
    "\n",
    "# Essentially, the single prefix is just useful as a convention, \n",
    "# rather than a mechanism to effectively restrict access."
   ]
  },
  {
   "cell_type": "code",
   "execution_count": 9,
   "id": "6be283fd",
   "metadata": {},
   "outputs": [],
   "source": [
    "# example of a class with protected methods\n",
    "class Rectangle:\n",
    "    def __init__(self, length, width):\n",
    "        self.length = length  # public attribute\n",
    "        self.width = width    # public attribute\n",
    "        \n",
    "    # protected methods\n",
    "    def _isValidLength(self, length):\n",
    "        return length >= 0\n",
    "    def _isValidWidth(self, width):\n",
    "        return width >= 0\n",
    " \n",
    "    # public method calling protected methods\n",
    "    def area(self, length, width):\n",
    "        if self._isValidLength(length) and self._isValidWidth(width):\n",
    "            return length * width\n",
    "        else:\n",
    "            return None"
   ]
  },
  {
   "cell_type": "code",
   "execution_count": 10,
   "id": "656045d0",
   "metadata": {},
   "outputs": [
    {
     "name": "stdout",
     "output_type": "stream",
     "text": [
      "True\n",
      "50\n"
     ]
    }
   ],
   "source": [
    "rectangle1 = Rectangle(10, 5)\n",
    "\n",
    "# Again, no error, but throws a warning: \n",
    "print(rectangle1._isValidLength(100))\n",
    "# NOTE: Warnings may not be displayed in some IDEs (Jupyter, ...)\n",
    "\n",
    "# Protected methods should be accessed via some public method:\n",
    "print(rectangle1.area(10, 5))"
   ]
  },
  {
   "cell_type": "code",
   "execution_count": null,
   "id": "5b3fb640",
   "metadata": {},
   "outputs": [],
   "source": [
    "# In case you're curious about the different uses of underscore in Python,\n",
    "# you can find a detailed explanation (and cheat sheet) here:\n",
    "# \n",
    "# https://www.codespeedy.com/usage-of-variables-starting-with-underscore-in-python/"
   ]
  },
  {
   "cell_type": "code",
   "execution_count": 11,
   "id": "8cc31d41",
   "metadata": {},
   "outputs": [],
   "source": [
    "# slide 71 \n",
    "# In order to properly restrict access in Python, we use decorators. \n",
    "# In the remainder of this demo, we illustrate this approach.\n",
    "#\n",
    "# Note that the attribute called __name is private.\n",
    "# However, the @property, @name.setter and @name.deleter decorators\n",
    "# define getter, setter and deleter methods for it.\n",
    "# This approach ensures that access to __name goes through those methods.\n",
    "\n",
    "class Student:\n",
    "    def __init__(self, value):\n",
    "        self.name = value\n",
    "    # getter function\n",
    "    @property\n",
    "    def name(self):\n",
    "        print('Getting name:')\n",
    "        return self.__name\n",
    "    # setter function\n",
    "    @name.setter\n",
    "    def name(self, value):\n",
    "        print('Setting name to', value)\n",
    "        self.__name = value\n",
    "    # deleter function\n",
    "    @name.deleter\n",
    "    def name(self):\n",
    "        print('Deleting name')\n",
    "        del self.__name\n"
   ]
  },
  {
   "cell_type": "code",
   "execution_count": 12,
   "id": "5ae0649f",
   "metadata": {},
   "outputs": [
    {
     "name": "stdout",
     "output_type": "stream",
     "text": [
      "Setting name to John\n",
      "john.__dict__:\n",
      " {'_Student__name': 'John'}\n",
      "Getting name:\n",
      "john.name = John\n"
     ]
    }
   ],
   "source": [
    "john = Student('John')\n",
    "print(\"john.__dict__:\\n\", john.__dict__)\n",
    "print(\"john.name =\", john.name)"
   ]
  },
  {
   "cell_type": "code",
   "execution_count": 13,
   "id": "8f2ee15a",
   "metadata": {},
   "outputs": [],
   "source": [
    "# slide 72 - example using a condition in the setter\n",
    "class Car:\n",
    "    def __init__(self):\n",
    "        self.speed = 0\n",
    "\n",
    "    @property\n",
    "    def speed(self):\n",
    "        print('Getting value...')\n",
    "        return self._speed\n",
    "    \n",
    "    @speed.setter\n",
    "    def speed(self, speed):\n",
    "        if (speed > 80):\n",
    "            print('this speed will damage the engine')\n",
    "            return    \n",
    "        print('Setting value...')\n",
    "        self._speed = speed\n",
    "\n",
    "    @speed.deleter \n",
    "    def speed(self): \n",
    "        print('Deleting attribute...')\n",
    "        del self._speed"
   ]
  },
  {
   "cell_type": "code",
   "execution_count": 14,
   "id": "6f7e8b87",
   "metadata": {},
   "outputs": [
    {
     "name": "stdout",
     "output_type": "stream",
     "text": [
      "Setting value...\n",
      "{'_speed': 0}\n",
      "Setting value...\n",
      "Getting value...\n",
      "10\n",
      "this speed will damage the engine\n",
      "Getting value...\n",
      "10\n",
      "Deleting attribute...\n",
      "{}\n"
     ]
    }
   ],
   "source": [
    "car = Car()\n",
    "print(car.__dict__)\n",
    "car.speed = 10\n",
    "print(car.speed)\n",
    "car.speed = 81\n",
    "print(car.speed)\n",
    "del car.speed\n",
    "print(car.__dict__)"
   ]
  },
  {
   "cell_type": "code",
   "execution_count": 15,
   "id": "d7802862",
   "metadata": {},
   "outputs": [],
   "source": [
    "# From within the class, we can use self to distinguish the attribute\n",
    "# and the corresponding getter/setter method.\n",
    "\n",
    "# For example, we can use this approach to ensure that\n",
    "# the setter is not invoked in the constructor, as we do below.\n",
    "\n",
    "class Car:\n",
    "    def __init__(self):\n",
    "        self._speed = 0\n",
    "\n",
    "    @property\n",
    "    def speed(self):\n",
    "        print('Getting value...')\n",
    "        return self._speed\n",
    "\n",
    "    @speed.setter\n",
    "    def speed(self, speed):\n",
    "        if (speed > 80):\n",
    "            print('this speed will damage the engine')\n",
    "            return    \n",
    "        print('Setting value...')\n",
    "        self._speed = speed\n",
    "\n",
    "    @speed.deleter \n",
    "    def speed(self): \n",
    "        print('Deleting attribute...')\n",
    "        del self._speed"
   ]
  },
  {
   "cell_type": "code",
   "execution_count": null,
   "id": "e61f0fa6",
   "metadata": {},
   "outputs": [],
   "source": [
    "# NOTE: self can only be used from within the class, so that \n",
    "# access to the attribute from outside the class still has to go through \n",
    "# the setter, getter & deleter methods.\n",
    "\n",
    "# YES, BUT: you can still access a protected method from outside the class \n",
    "#           by using the object's identifier instead of self \n",
    "#           (as shown below)"
   ]
  },
  {
   "cell_type": "code",
   "execution_count": 18,
   "id": "d74e362f",
   "metadata": {},
   "outputs": [
    {
     "name": "stdout",
     "output_type": "stream",
     "text": [
      "{'_speed': 0}\n",
      "Setting value...\n",
      "Getting value...\n",
      "10\n",
      "50\n",
      "this speed will damage the engine\n",
      "Getting value...\n",
      "50\n",
      "Deleting attribute...\n",
      "{}\n"
     ]
    }
   ],
   "source": [
    "car = Car()          \n",
    "print(car.__dict__)  \n",
    "car.speed = 10       \n",
    "print(car.speed)  \n",
    "car._speed=50\n",
    "print(car._speed)\n",
    "car.speed = 81       \n",
    "print(car.speed)     \n",
    "del car.speed        \n",
    "print(car.__dict__)  \n"
   ]
  },
  {
   "cell_type": "code",
   "execution_count": 21,
   "id": "050f8aa4",
   "metadata": {},
   "outputs": [
    {
     "name": "stdout",
     "output_type": "stream",
     "text": [
      "{'_Car__speed': 0}\n",
      "10\n",
      "50\n"
     ]
    }
   ],
   "source": [
    "# Even private attributes can still be accessed \n",
    "# from outside the class (through name mangling)\n",
    "\n",
    "class Car:\n",
    "    def __init__(self):\n",
    "        self.speed = 0\n",
    "\n",
    "    @property\n",
    "    def speed(self):\n",
    "        return self.__speed\n",
    "\n",
    "    @speed.setter\n",
    "    def speed(self, speed):\n",
    "        self.__speed = speed\n",
    "\n",
    "    @speed.deleter \n",
    "    def speed(self): \n",
    "        del self.__speed\n",
    "        \n",
    "\n",
    "car = Car()          \n",
    "print(car.__dict__)  \n",
    "car.speed = 10       \n",
    "print(car.speed)  \n",
    "car._Car__speed=50\n",
    "print(car._Car__speed)"
   ]
  },
  {
   "cell_type": "code",
   "execution_count": 22,
   "id": "a6681f65",
   "metadata": {},
   "outputs": [],
   "source": [
    "# Inheritance example\n",
    "\n",
    "# Define the base class Employee\n",
    "class Employee:\n",
    "    def __init__(self, name, employee_id, salary):\n",
    "        self.name = name\n",
    "        self.employee_id = employee_id\n",
    "        self.salary = salary\n",
    "\n",
    "    def get_info(self):\n",
    "        print(f\"Name: {self.name}\")\n",
    "        print(f\"Employee ID: {self.employee_id}\")\n",
    "        print(f\"Salary: {self.salary}\")\n"
   ]
  },
  {
   "cell_type": "code",
   "execution_count": 23,
   "id": "5d90d3f5",
   "metadata": {},
   "outputs": [],
   "source": [
    "# Define the subclass Admin that inherits from Employee\n",
    "class Admin(Employee):\n",
    "    def __init__(self, name, employee_id, salary, department):\n",
    "        super().__init__(name, employee_id, salary)\n",
    "        self.department = department\n",
    "\n",
    "    def get_info(self):\n",
    "        super().get_info()\n",
    "        print(f\"Department: {self.department}\")\n"
   ]
  },
  {
   "cell_type": "code",
   "execution_count": 24,
   "id": "0f03a534",
   "metadata": {},
   "outputs": [],
   "source": [
    "# Define the subclass Trainer that inherits from Employee\n",
    "class Trainer(Employee):\n",
    "    def __init__(self, name, employee_id, salary, certification):\n",
    "        super().__init__(name, employee_id, salary)\n",
    "        self.certification = certification\n",
    "\n",
    "    def get_info(self):\n",
    "        super().get_info()\n",
    "        print(f\"Certification: {self.certification}\")\n"
   ]
  },
  {
   "cell_type": "code",
   "execution_count": 25,
   "id": "f67d62df",
   "metadata": {},
   "outputs": [
    {
     "name": "stdout",
     "output_type": "stream",
     "text": [
      "Name: Lizette Rivera\n",
      "Employee ID: 1001\n",
      "Salary: 70000\n",
      "Department: Academy\n",
      "\n",
      "Name: Luca Fossati\n",
      "Employee ID: 1002\n",
      "Salary: 60000\n",
      "Certification: Snowflake\n"
     ]
    }
   ],
   "source": [
    "# Create instances of the Admin and Trainer classes and call their methods\n",
    "lizette = Admin(\"Lizette Rivera\", 1001, 70000, \"Academy\")\n",
    "lizette.get_info()\n",
    "\n",
    "print()\n",
    "luca = Trainer(\"Luca Fossati\", 1002, 60000, \"Snowflake\")\n",
    "luca.get_info()\n"
   ]
  },
  {
   "cell_type": "code",
   "execution_count": 26,
   "id": "d6ed1a5b",
   "metadata": {},
   "outputs": [],
   "source": [
    "# Polymorphism Example\n",
    "\n",
    "# Define the base class Employee\n",
    "class Employee:\n",
    "    def __init__(self, name, employee_id, salary):\n",
    "        self.name = name\n",
    "        self.employee_id = employee_id\n",
    "        self.salary = salary\n",
    "\n",
    "    def get_info(self):\n",
    "        print(f\"Name: {self.name}\")\n",
    "        print(f\"Employee ID: {self.employee_id}\")\n",
    "        print(f\"Salary: {self.salary}\")\n",
    "\n",
    "    def calculate_pay(self, hours_worked):\n",
    "        return self.salary / 52 / 40 * hours_worked\n"
   ]
  },
  {
   "cell_type": "code",
   "execution_count": 27,
   "id": "a89cdf71",
   "metadata": {},
   "outputs": [],
   "source": [
    "# Define the subclass Admin that inherits from Employee\n",
    "class Admin(Employee):\n",
    "    def __init__(self, name, employee_id, salary, department):\n",
    "        super().__init__(name, employee_id, salary)\n",
    "        self.department = department\n",
    "\n",
    "    def get_info(self):\n",
    "        super().get_info()\n",
    "        print(f\"Department: {self.department}\")\n",
    "\n",
    "    def calculate_pay(self, hours_worked):\n",
    "        return self.salary / 52 / 40 * hours_worked * 1.5\n"
   ]
  },
  {
   "cell_type": "code",
   "execution_count": 28,
   "id": "246823da",
   "metadata": {},
   "outputs": [],
   "source": [
    "# Define the subclass Trainer that inherits from Employee\n",
    "class Trainer(Employee):\n",
    "    def __init__(self, name, employee_id, salary, certification):\n",
    "        super().__init__(name, employee_id, salary)\n",
    "        self.certification = certification\n",
    "\n",
    "    def get_info(self):\n",
    "        super().get_info()\n",
    "        print(f\"Certification: {self.certification}\")\n",
    "\n",
    "    def calculate_pay(self, hours_worked, overtime_rate=1.5):\n",
    "        return self.salary / 52 / 40 * hours_worked * overtime_rate\n"
   ]
  },
  {
   "cell_type": "code",
   "execution_count": 30,
   "id": "9112271a",
   "metadata": {},
   "outputs": [
    {
     "name": "stdout",
     "output_type": "stream",
     "text": [
      "Name: Lizette Rivera\n",
      "Employee ID: 1001\n",
      "Salary: 70000\n",
      "Department: Academy\n",
      "2271.6346153846152\n",
      "\n",
      "Name: Luca Fossati\n",
      "Employee ID: 1002\n",
      "Salary: 60000\n",
      "Certification: Snowflake\n",
      "2163.4615384615386\n",
      "2884.6153846153848\n"
     ]
    }
   ],
   "source": [
    "# Create instances of the Admin and Trainer classes and call their methods\n",
    "lizette = Admin(\"Lizette Rivera\", 1001, 70000, \"Academy\")\n",
    "lizette.get_info()\n",
    "print(lizette.calculate_pay(45)) \n",
    "\n",
    "print()\n",
    "luca = Trainer(\"Luca Fossati\", 1002, 60000, \"Snowflake\")\n",
    "luca.get_info()\n",
    "print(luca.calculate_pay(50)) \n",
    "print(luca.calculate_pay(50, overtime_rate=2)) \n"
   ]
  }
 ],
 "metadata": {
  "kernelspec": {
   "display_name": "Python 3 (ipykernel)",
   "language": "python",
   "name": "python3"
  },
  "language_info": {
   "codemirror_mode": {
    "name": "ipython",
    "version": 3
   },
   "file_extension": ".py",
   "mimetype": "text/x-python",
   "name": "python",
   "nbconvert_exporter": "python",
   "pygments_lexer": "ipython3",
   "version": "3.8.12"
  }
 },
 "nbformat": 4,
 "nbformat_minor": 5
}
