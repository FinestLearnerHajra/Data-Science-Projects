{
 "cells": [
  {
   "cell_type": "code",
   "execution_count": 1,
   "id": "f4317951",
   "metadata": {},
   "outputs": [],
   "source": [
    "##############################\n",
    "# Module 1B - Error Handling #\n",
    "##############################\n",
    "\n",
    "'''\n",
    "Errors are problems in a program which cause execution to terminate\n",
    "Three types of Error occur in Python:\n",
    "1) Syntax errors\n",
    "2) Logical errors \n",
    "3) runtime errors (Exceptions)\n",
    "'''"
   ]
  },
  {
   "cell_type": "code",
   "execution_count": 1,
   "id": "81bd2b4f",
   "metadata": {},
   "outputs": [
    {
     "ename": "SyntaxError",
     "evalue": "invalid syntax (Temp/ipykernel_26332/735091688.py, line 3)",
     "output_type": "error",
     "traceback": [
      "\u001b[1;36m  File \u001b[1;32m\"C:\\Users\\USER\\AppData\\Local\\Temp/ipykernel_26332/735091688.py\"\u001b[1;36m, line \u001b[1;32m3\u001b[0m\n\u001b[1;33m    if age < 18  # syntax error due to missing colon (:)\u001b[0m\n\u001b[1;37m                 ^\u001b[0m\n\u001b[1;31mSyntaxError\u001b[0m\u001b[1;31m:\u001b[0m invalid syntax\n"
     ]
    }
   ],
   "source": [
    "# slide 5: Syntax errors\n",
    "age = int(input(\"Enter your age:\"))\n",
    "if age < 18  # syntax error due to missing colon (:)\n",
    "    print(\"You are a minor\")"
   ]
  },
  {
   "cell_type": "code",
   "execution_count": 2,
   "id": "e4b5b5f8",
   "metadata": {},
   "outputs": [
    {
     "data": {
      "text/plain": [
       "0"
      ]
     },
     "execution_count": 2,
     "metadata": {},
     "output_type": "execute_result"
    }
   ],
   "source": [
    "# Logical error\n",
    "\n",
    "# if we want to implement the sum of two numbers, \n",
    "# then the implementation below is wrong\n",
    "def sum(a,b):\n",
    "    return a-b\n",
    "\n",
    "sum(1,1)"
   ]
  },
  {
   "cell_type": "code",
   "execution_count": 3,
   "id": "aa49f4ed",
   "metadata": {},
   "outputs": [
    {
     "ename": "ZeroDivisionError",
     "evalue": "division by zero",
     "output_type": "error",
     "traceback": [
      "\u001b[1;31m---------------------------------------------------------------------------\u001b[0m",
      "\u001b[1;31mZeroDivisionError\u001b[0m                         Traceback (most recent call last)",
      "\u001b[1;32m~\\AppData\\Local\\Temp/ipykernel_26332/922798328.py\u001b[0m in \u001b[0;36m<module>\u001b[1;34m\u001b[0m\n\u001b[0;32m      3\u001b[0m \u001b[0mmarksAvailable\u001b[0m \u001b[1;33m=\u001b[0m \u001b[1;36m0\u001b[0m\u001b[1;33m\u001b[0m\u001b[1;33m\u001b[0m\u001b[0m\n\u001b[0;32m      4\u001b[0m \u001b[1;31m# the following statement produces a ZeroDivisionError exception\u001b[0m\u001b[1;33m\u001b[0m\u001b[1;33m\u001b[0m\u001b[1;33m\u001b[0m\u001b[0m\n\u001b[1;32m----> 5\u001b[1;33m \u001b[0mpercentageAchieved\u001b[0m \u001b[1;33m=\u001b[0m \u001b[0mmarksAchieved\u001b[0m \u001b[1;33m/\u001b[0m \u001b[0mmarksAvailable\u001b[0m \u001b[1;33m*\u001b[0m \u001b[1;36m100\u001b[0m\u001b[1;33m\u001b[0m\u001b[1;33m\u001b[0m\u001b[0m\n\u001b[0m",
      "\u001b[1;31mZeroDivisionError\u001b[0m: division by zero"
     ]
    }
   ],
   "source": [
    "# slide 6: Exceptions\n",
    "marksAchieved = 237\n",
    "marksAvailable = 0\n",
    "# the following statement produces a ZeroDivisionError exception\n",
    "percentageAchieved = marksAchieved / marksAvailable * 100"
   ]
  },
  {
   "cell_type": "code",
   "execution_count": null,
   "id": "06119072",
   "metadata": {},
   "outputs": [],
   "source": [
    "'''\n",
    "If some code may raise an exception, you can handle it with a \n",
    "try-except-else-finally block. \n",
    "\n",
    "Syntax:\n",
    "\n",
    "try:\n",
    "    # some code prone to runtime errors\n",
    "except:\n",
    "    # executed if error in the try block\n",
    "else:\n",
    "    # executed if no exception\n",
    "finally:\n",
    "    # always executed\n",
    "'''"
   ]
  },
  {
   "cell_type": "code",
   "execution_count": 4,
   "id": "97dd23d5",
   "metadata": {},
   "outputs": [
    {
     "name": "stdout",
     "output_type": "stream",
     "text": [
      "3 divided by 2 is : 1.5\n",
      "Error! You are dividing by zero\n"
     ]
    }
   ],
   "source": [
    "# slide 12: try-except statement \n",
    "def divide(x, y):\n",
    "    try:\n",
    "        result = x / y\n",
    "        print(x, \"divided by\", y, \"is :\", result)\n",
    "    except ZeroDivisionError:\n",
    "        print(\"Error! You are dividing by zero\")\n",
    "        \n",
    "divide(3, 2)  \n",
    "divide(3, 0)  "
   ]
  },
  {
   "cell_type": "code",
   "execution_count": 5,
   "id": "2c439fc0",
   "metadata": {},
   "outputs": [
    {
     "name": "stdout",
     "output_type": "stream",
     "text": [
      "3 divided by 2 is : 1.5\n",
      "Error! You are dividing by zero\n"
     ]
    }
   ],
   "source": [
    "# slide 13: try-except-else statement\n",
    "def divide(x, y):\n",
    "    try:\n",
    "        result = x / y\n",
    "    except ZeroDivisionError:\n",
    "        print(\"Error! You are dividing by zero\")\n",
    "    else:\n",
    "        print(x, \"divided by\", y, \"is :\", result)\n",
    "        \n",
    "divide(3, 2)  \n",
    "divide(3, 0)  "
   ]
  },
  {
   "cell_type": "code",
   "execution_count": 6,
   "id": "ba4260a4",
   "metadata": {},
   "outputs": [
    {
     "name": "stdout",
     "output_type": "stream",
     "text": [
      "3 divided by 2 is : 1.5\n",
      "The function execution has terminated\n",
      "Error! You are dividing by zero\n",
      "The function execution has terminated\n"
     ]
    }
   ],
   "source": [
    "# slide 14: try-except-else-finally statement \n",
    "def divide(x, y):\n",
    "    try:\n",
    "        result = x / y\n",
    "    except ZeroDivisionError:\n",
    "        print(\"Error! You are dividing by zero\")\n",
    "    else:\n",
    "        print(x, \"divided by\", y, \"is :\", result)\n",
    "    finally:\n",
    "        print(\"The function execution has terminated\")\n",
    "        \n",
    "divide(3, 2)  \n",
    "divide(3, 0)  "
   ]
  },
  {
   "cell_type": "code",
   "execution_count": 8,
   "id": "98450b0a",
   "metadata": {},
   "outputs": [
    {
     "name": "stdout",
     "output_type": "stream",
     "text": [
      "[5.0, 5.0]\n",
      "[5.0, 5.0, 6.0]\n"
     ]
    }
   ],
   "source": [
    "# slide 15: try-finally statement \n",
    "def divide(lst1, lst2):\n",
    "    lst3 = []\n",
    "    try:\n",
    "        for index in range(len(lst1)):\n",
    "            result = lst1[index] / lst2[index]\n",
    "            lst3.append(result)\n",
    "    finally:\n",
    "        # if the finally clause executes a return, break or continue\n",
    "        # statement, the saved exception is discarded\n",
    "        return lst3\n",
    "\n",
    "print(divide([10, 20, 30, 40], [2, 4, 0, 5]))  \n",
    "print(divide([10, 20, 30, 40], [2, 4, 5]))  "
   ]
  },
  {
   "cell_type": "code",
   "execution_count": 9,
   "id": "7e623b3a",
   "metadata": {},
   "outputs": [
    {
     "name": "stdout",
     "output_type": "stream",
     "text": [
      "[5.0, 5.0]\n",
      "Error: index 3 does not exist in list [2, 4, 5]\n",
      "[5.0, 5.0, 6.0]\n"
     ]
    }
   ],
   "source": [
    "# slide 16: try-except-finally statement \n",
    "def divide(lst1, lst2):\n",
    "    lst3 = []\n",
    "    try:\n",
    "        for index in range(len(lst1)):\n",
    "            result = lst1[index] / lst2[index]\n",
    "            lst3.append(result)\n",
    "    except IndexError:\n",
    "        print(\"Error: index\", index, \"does not exist in list\", lst2)\n",
    "    finally:\n",
    "        return lst3\n",
    "\n",
    "print(divide([10, 20, 30, 40], [2, 4, 0, 5]))  \n",
    "print(divide([10, 20, 30, 40], [2, 4, 5]))  "
   ]
  },
  {
   "cell_type": "code",
   "execution_count": 11,
   "id": "4389354c",
   "metadata": {},
   "outputs": [
    {
     "name": "stdout",
     "output_type": "stream",
     "text": [
      "Please enter your age: 2.6\n",
      "Exception: invalid literal for int() with base 10: '2.6'\n",
      "Please enter the correct input.\n"
     ]
    }
   ],
   "source": [
    "# slide 17: printing the error message from the exception object\n",
    "age = input(\"Please enter your age: \")\n",
    "try:\n",
    "    age = int(age)   \n",
    "except Exception as e:\n",
    "    print(\"Exception:\", e)\n",
    "    print(\"Please enter the correct input.\")\n",
    "else:\n",
    "    print(age)"
   ]
  },
  {
   "cell_type": "code",
   "execution_count": 14,
   "id": "efaa1c96",
   "metadata": {},
   "outputs": [
    {
     "name": "stdout",
     "output_type": "stream",
     "text": [
      "Enter 1st whole number: 5\n",
      "Enter 2nd whole number: 0\n",
      "ZeroDivisionError caught\n"
     ]
    },
    {
     "ename": "ZeroDivisionError",
     "evalue": "division by zero",
     "output_type": "error",
     "traceback": [
      "\u001b[1;31m---------------------------------------------------------------------------\u001b[0m",
      "\u001b[1;31mZeroDivisionError\u001b[0m                         Traceback (most recent call last)",
      "\u001b[1;32m~\\AppData\\Local\\Temp/ipykernel_26332/2871908265.py\u001b[0m in \u001b[0;36m<module>\u001b[1;34m\u001b[0m\n\u001b[0;32m      3\u001b[0m \u001b[0mnum2\u001b[0m \u001b[1;33m=\u001b[0m \u001b[0mint\u001b[0m\u001b[1;33m(\u001b[0m\u001b[0minput\u001b[0m\u001b[1;33m(\u001b[0m\u001b[1;34m\"Enter 2nd whole number: \"\u001b[0m\u001b[1;33m)\u001b[0m\u001b[1;33m)\u001b[0m\u001b[1;33m\u001b[0m\u001b[1;33m\u001b[0m\u001b[0m\n\u001b[0;32m      4\u001b[0m \u001b[1;32mtry\u001b[0m\u001b[1;33m:\u001b[0m\u001b[1;33m\u001b[0m\u001b[1;33m\u001b[0m\u001b[0m\n\u001b[1;32m----> 5\u001b[1;33m     \u001b[0mprint\u001b[0m\u001b[1;33m(\u001b[0m\u001b[0mnum1\u001b[0m \u001b[1;33m/\u001b[0m \u001b[0mnum2\u001b[0m\u001b[1;33m)\u001b[0m\u001b[1;33m\u001b[0m\u001b[1;33m\u001b[0m\u001b[0m\n\u001b[0m\u001b[0;32m      6\u001b[0m \u001b[1;32mexcept\u001b[0m \u001b[0mZeroDivisionError\u001b[0m\u001b[1;33m:\u001b[0m\u001b[1;33m\u001b[0m\u001b[1;33m\u001b[0m\u001b[0m\n\u001b[0;32m      7\u001b[0m     \u001b[0mprint\u001b[0m\u001b[1;33m(\u001b[0m\u001b[1;34m\"ZeroDivisionError caught\"\u001b[0m\u001b[1;33m)\u001b[0m\u001b[1;33m\u001b[0m\u001b[1;33m\u001b[0m\u001b[0m\n",
      "\u001b[1;31mZeroDivisionError\u001b[0m: division by zero"
     ]
    }
   ],
   "source": [
    "# slide 20: Raising exception without specifying an exception class\n",
    "num1 = int(input(\"Enter 1st whole number: \"))\n",
    "num2 = int(input(\"Enter 2nd whole number: \"))\n",
    "try:\n",
    "    print(num1 / num2)\n",
    "except ZeroDivisionError:\n",
    "    print(\"ZeroDivisionError caught\")\n",
    "    raise \n",
    "# num2 = 0 raises ZeroDivisionError"
   ]
  },
  {
   "cell_type": "code",
   "execution_count": 16,
   "id": "1a1b37e1",
   "metadata": {},
   "outputs": [
    {
     "name": "stdout",
     "output_type": "stream",
     "text": [
      "Enter 1st whole number: 4\n",
      "Enter 2nd whole number: -1\n",
      "Please enter a positive denominator\n"
     ]
    }
   ],
   "source": [
    "# slide 22: Raising specific exception, then handling it \n",
    "#           in the same try-except block\n",
    "num1 = int(input(\"Enter 1st whole number: \"))\n",
    "num2 = int(input(\"Enter 2nd whole number: \"))\n",
    "try:\n",
    "    if num2 < 0:\n",
    "        raise ZeroDivisionError\n",
    "    print(num1 / num2)\n",
    "except ZeroDivisionError:\n",
    "    print(\"Please enter a positive denominator\")"
   ]
  },
  {
   "cell_type": "code",
   "execution_count": 19,
   "id": "65836e7d",
   "metadata": {},
   "outputs": [
    {
     "name": "stdout",
     "output_type": "stream",
     "text": [
      "Enter a whole number: 2.5\n"
     ]
    },
    {
     "ename": "TypeError",
     "evalue": "Only integers are allowed",
     "output_type": "error",
     "traceback": [
      "\u001b[1;31m---------------------------------------------------------------------------\u001b[0m",
      "\u001b[1;31mTypeError\u001b[0m                                 Traceback (most recent call last)",
      "\u001b[1;32m~\\AppData\\Local\\Temp/ipykernel_26332/2556073640.py\u001b[0m in \u001b[0;36m<module>\u001b[1;34m\u001b[0m\n\u001b[0;32m      2\u001b[0m \u001b[0mvalue\u001b[0m \u001b[1;33m=\u001b[0m \u001b[0minput\u001b[0m\u001b[1;33m(\u001b[0m\u001b[1;34m\"Enter a whole number: \"\u001b[0m\u001b[1;33m)\u001b[0m\u001b[1;33m\u001b[0m\u001b[1;33m\u001b[0m\u001b[0m\n\u001b[0;32m      3\u001b[0m \u001b[1;32mif\u001b[0m \u001b[1;32mnot\u001b[0m\u001b[1;33m(\u001b[0m\u001b[0mvalue\u001b[0m\u001b[1;33m.\u001b[0m\u001b[0misdigit\u001b[0m\u001b[1;33m(\u001b[0m\u001b[1;33m)\u001b[0m \u001b[1;32mor\u001b[0m \u001b[0mvalue\u001b[0m\u001b[1;33m[\u001b[0m\u001b[1;36m0\u001b[0m\u001b[1;33m]\u001b[0m \u001b[1;33m==\u001b[0m \u001b[1;34m'-'\u001b[0m \u001b[1;32mand\u001b[0m \u001b[0mvalue\u001b[0m\u001b[1;33m[\u001b[0m\u001b[1;36m1\u001b[0m\u001b[1;33m:\u001b[0m\u001b[1;33m]\u001b[0m\u001b[1;33m.\u001b[0m\u001b[0misdigit\u001b[0m\u001b[1;33m(\u001b[0m\u001b[1;33m)\u001b[0m\u001b[1;33m)\u001b[0m\u001b[1;33m:\u001b[0m\u001b[1;33m\u001b[0m\u001b[1;33m\u001b[0m\u001b[0m\n\u001b[1;32m----> 4\u001b[1;33m     \u001b[1;32mraise\u001b[0m \u001b[0mTypeError\u001b[0m\u001b[1;33m(\u001b[0m\u001b[1;34m\"Only integers are allowed\"\u001b[0m\u001b[1;33m)\u001b[0m\u001b[1;33m\u001b[0m\u001b[1;33m\u001b[0m\u001b[0m\n\u001b[0m",
      "\u001b[1;31mTypeError\u001b[0m: Only integers are allowed"
     ]
    }
   ],
   "source": [
    "# slides 23-25: Raising exception with argument\n",
    "value = input(\"Enter a whole number: \")\n",
    "if not(value.isdigit() or value[0] == '-' and value[1:].isdigit()):\n",
    "    raise TypeError(\"Only integers are allowed\")"
   ]
  },
  {
   "cell_type": "code",
   "execution_count": 22,
   "id": "b7df1e60",
   "metadata": {},
   "outputs": [
    {
     "name": "stdout",
     "output_type": "stream",
     "text": [
      "Enter a non-negative number: -34\n"
     ]
    },
    {
     "ename": "Exception",
     "evalue": "Negative numbers are not allowed",
     "output_type": "error",
     "traceback": [
      "\u001b[1;31m---------------------------------------------------------------------------\u001b[0m",
      "\u001b[1;31mException\u001b[0m                                 Traceback (most recent call last)",
      "\u001b[1;32m~\\AppData\\Local\\Temp/ipykernel_26332/3974786314.py\u001b[0m in \u001b[0;36m<module>\u001b[1;34m\u001b[0m\n\u001b[0;32m      2\u001b[0m \u001b[0mvalue\u001b[0m \u001b[1;33m=\u001b[0m \u001b[0mint\u001b[0m\u001b[1;33m(\u001b[0m\u001b[0minput\u001b[0m\u001b[1;33m(\u001b[0m\u001b[1;34m\"Enter a non-negative number: \"\u001b[0m\u001b[1;33m)\u001b[0m\u001b[1;33m)\u001b[0m\u001b[1;33m\u001b[0m\u001b[1;33m\u001b[0m\u001b[0m\n\u001b[0;32m      3\u001b[0m \u001b[1;32mif\u001b[0m \u001b[0mvalue\u001b[0m \u001b[1;33m<\u001b[0m \u001b[1;36m0\u001b[0m\u001b[1;33m:\u001b[0m\u001b[1;33m\u001b[0m\u001b[1;33m\u001b[0m\u001b[0m\n\u001b[1;32m----> 4\u001b[1;33m     \u001b[1;32mraise\u001b[0m \u001b[0mException\u001b[0m\u001b[1;33m(\u001b[0m\u001b[1;34m\"Negative numbers are not allowed\"\u001b[0m\u001b[1;33m)\u001b[0m\u001b[1;33m\u001b[0m\u001b[1;33m\u001b[0m\u001b[0m\n\u001b[0m",
      "\u001b[1;31mException\u001b[0m: Negative numbers are not allowed"
     ]
    }
   ],
   "source": [
    "# slide 24\n",
    "value = int(input(\"Enter a non-negative number: \"))\n",
    "if value < 0:\n",
    "    raise Exception(\"Negative numbers are not allowed\")"
   ]
  },
  {
   "cell_type": "code",
   "execution_count": 25,
   "id": "6868f33e",
   "metadata": {},
   "outputs": [
    {
     "name": "stdout",
     "output_type": "stream",
     "text": [
      "Enter a non-negative number: rew\n"
     ]
    },
    {
     "ename": "TypeError",
     "evalue": "Only integers are allowed; you entered: rew",
     "output_type": "error",
     "traceback": [
      "\u001b[1;31m---------------------------------------------------------------------------\u001b[0m",
      "\u001b[1;31mTypeError\u001b[0m                                 Traceback (most recent call last)",
      "\u001b[1;32m~\\AppData\\Local\\Temp/ipykernel_26332/208327537.py\u001b[0m in \u001b[0;36m<module>\u001b[1;34m\u001b[0m\n\u001b[0;32m      5\u001b[0m         \u001b[1;32mraise\u001b[0m \u001b[0mException\u001b[0m\u001b[1;33m(\u001b[0m\u001b[1;34m\"Negative numbers are not allowed; you entered: \"\u001b[0m \u001b[1;33m+\u001b[0m \u001b[0mvalue\u001b[0m\u001b[1;33m)\u001b[0m\u001b[1;33m\u001b[0m\u001b[1;33m\u001b[0m\u001b[0m\n\u001b[0;32m      6\u001b[0m \u001b[1;32melse\u001b[0m\u001b[1;33m:\u001b[0m\u001b[1;33m\u001b[0m\u001b[1;33m\u001b[0m\u001b[0m\n\u001b[1;32m----> 7\u001b[1;33m     \u001b[1;32mraise\u001b[0m \u001b[0mTypeError\u001b[0m\u001b[1;33m(\u001b[0m\u001b[1;34m\"Only integers are allowed; you entered: \"\u001b[0m \u001b[1;33m+\u001b[0m \u001b[0mvalue\u001b[0m\u001b[1;33m)\u001b[0m\u001b[1;33m\u001b[0m\u001b[1;33m\u001b[0m\u001b[0m\n\u001b[0m",
      "\u001b[1;31mTypeError\u001b[0m: Only integers are allowed; you entered: rew"
     ]
    }
   ],
   "source": [
    "# slide 25: The previous 2 examples joined together \n",
    "value = input(\"Enter a non-negative number: \")\n",
    "if value.isdigit() or value[0] == '-' and value[1:].isdigit():\n",
    "    if int(value) < 0:\n",
    "        raise Exception(\"Negative numbers are not allowed; you entered: \" + value)\n",
    "else:\n",
    "    raise TypeError(\"Only integers are allowed; you entered: \" + value)"
   ]
  },
  {
   "cell_type": "code",
   "execution_count": 35,
   "id": "4252ec2c",
   "metadata": {},
   "outputs": [
    {
     "name": "stdout",
     "output_type": "stream",
     "text": [
      "Enter 1st whole number: 3\n",
      "Enter 2nd whole number: -1\n",
      "You've entered a negative denominator. The denominator must be positive.\n"
     ]
    }
   ],
   "source": [
    "# Using custom class\n",
    "\n",
    "class NegativeDenominatorError(Exception):\n",
    "    pass\n",
    "\n",
    "num1 = int(input(\"Enter 1st whole number: \"))\n",
    "num2 = int(input(\"Enter 2nd whole number: \"))\n",
    "try:\n",
    "    if num2 < 0:\n",
    "        raise NegativeDenominatorError\n",
    "    print(num1 / num2)\n",
    "except ZeroDivisionError:\n",
    "    print(  \"You've entered a null denominator.\",\\\n",
    "            \"The denominator must be positive.\")\n",
    "except NegativeDenominatorError:\n",
    "    print(  \"You've entered a negative denominator.\",\\\n",
    "            \"The denominator must be positive.\")"
   ]
  },
  {
   "cell_type": "code",
   "execution_count": 39,
   "id": "74ca0bf9",
   "metadata": {},
   "outputs": [
    {
     "name": "stdout",
     "output_type": "stream",
     "text": [
      "Enter 1st whole number: 4\n",
      "Enter 2nd whole number: 0\n"
     ]
    },
    {
     "ename": "InvalidInputError",
     "evalue": "",
     "output_type": "error",
     "traceback": [
      "\u001b[1;31m---------------------------------------------------------------------------\u001b[0m",
      "\u001b[1;31mZeroDivisionError\u001b[0m                         Traceback (most recent call last)",
      "\u001b[1;32m~\\AppData\\Local\\Temp/ipykernel_26332/373766072.py\u001b[0m in \u001b[0;36m<module>\u001b[1;34m\u001b[0m\n\u001b[0;32m     11\u001b[0m         \u001b[1;32mraise\u001b[0m \u001b[0mInvalidInputError\u001b[0m\u001b[1;33m\u001b[0m\u001b[1;33m\u001b[0m\u001b[0m\n\u001b[1;32m---> 12\u001b[1;33m     \u001b[0mprint\u001b[0m\u001b[1;33m(\u001b[0m\u001b[0mnum1\u001b[0m \u001b[1;33m/\u001b[0m \u001b[0mnum2\u001b[0m\u001b[1;33m)\u001b[0m\u001b[1;33m\u001b[0m\u001b[1;33m\u001b[0m\u001b[0m\n\u001b[0m\u001b[0;32m     13\u001b[0m \u001b[1;32mexcept\u001b[0m \u001b[0mZeroDivisionError\u001b[0m\u001b[1;33m:\u001b[0m\u001b[1;33m\u001b[0m\u001b[1;33m\u001b[0m\u001b[0m\n",
      "\u001b[1;31mZeroDivisionError\u001b[0m: division by zero",
      "\nDuring handling of the above exception, another exception occurred:\n",
      "\u001b[1;31mInvalidInputError\u001b[0m                         Traceback (most recent call last)",
      "\u001b[1;32m~\\AppData\\Local\\Temp/ipykernel_26332/373766072.py\u001b[0m in \u001b[0;36m<module>\u001b[1;34m\u001b[0m\n\u001b[0;32m     12\u001b[0m     \u001b[0mprint\u001b[0m\u001b[1;33m(\u001b[0m\u001b[0mnum1\u001b[0m \u001b[1;33m/\u001b[0m \u001b[0mnum2\u001b[0m\u001b[1;33m)\u001b[0m\u001b[1;33m\u001b[0m\u001b[1;33m\u001b[0m\u001b[0m\n\u001b[0;32m     13\u001b[0m \u001b[1;32mexcept\u001b[0m \u001b[0mZeroDivisionError\u001b[0m\u001b[1;33m:\u001b[0m\u001b[1;33m\u001b[0m\u001b[1;33m\u001b[0m\u001b[0m\n\u001b[1;32m---> 14\u001b[1;33m     \u001b[1;32mraise\u001b[0m \u001b[0mInvalidInputError\u001b[0m\u001b[1;33m\u001b[0m\u001b[1;33m\u001b[0m\u001b[0m\n\u001b[0m\u001b[0;32m     15\u001b[0m \u001b[1;32mexcept\u001b[0m \u001b[0mInvalidInputError\u001b[0m\u001b[1;33m:\u001b[0m\u001b[1;33m\u001b[0m\u001b[1;33m\u001b[0m\u001b[0m\n\u001b[0;32m     16\u001b[0m     \u001b[0mprint\u001b[0m\u001b[1;33m(\u001b[0m  \u001b[1;34m\"Invalid input: the denominator must be positive.\"\u001b[0m\u001b[1;33m)\u001b[0m\u001b[1;33m\u001b[0m\u001b[1;33m\u001b[0m\u001b[0m\n",
      "\u001b[1;31mInvalidInputError\u001b[0m: "
     ]
    }
   ],
   "source": [
    "# Wrong design choice: an error raised from an except block \n",
    "# will not be caught (even if followed by another except block)\n",
    "\n",
    "class InvalidInputError(Exception):\n",
    "    pass\n",
    "\n",
    "num1 = int(input(\"Enter 1st whole number: \"))\n",
    "num2 = int(input(\"Enter 2nd whole number: \"))\n",
    "try:\n",
    "    if num2 < 0:\n",
    "        raise InvalidInputError\n",
    "    print(num1 / num2)\n",
    "except ZeroDivisionError:\n",
    "    raise InvalidInputError\n",
    "except InvalidInputError:\n",
    "    print(  \"Invalid input: the denominator must be positive.\")\n",
    "    "
   ]
  },
  {
   "cell_type": "code",
   "execution_count": 44,
   "id": "f050d3f6",
   "metadata": {},
   "outputs": [
    {
     "name": "stdout",
     "output_type": "stream",
     "text": [
      "Enter 1st whole number: 10\n",
      "Enter 2nd whole number: 2\n",
      "5.0\n"
     ]
    }
   ],
   "source": [
    "# Question: how can we deal with this? How do we handle two \n",
    "# different types of errors in the same way?\n",
    "\n",
    "# One way is to take advantage of the inheritance hierarchy:\n",
    "\n",
    "class InvalidInputError(Exception):\n",
    "    pass\n",
    "\n",
    "class NegativeInputError(InvalidInputError):\n",
    "    pass\n",
    "\n",
    "class ZeroInputError(InvalidInputError):\n",
    "    pass\n",
    "\n",
    "num1 = int(input(\"Enter 1st whole number: \"))\n",
    "num2 = int(input(\"Enter 2nd whole number: \"))\n",
    "try:\n",
    "    if num2 < 0:\n",
    "        raise NegativeInputError\n",
    "    elif num2 == 0:\n",
    "        raise ZeroInputError\n",
    "except InvalidInputError:\n",
    "    print(  \"Invalid input: the denominator must be positive.\")\n",
    "else:\n",
    "    print(num1/num2)"
   ]
  }
 ],
 "metadata": {
  "kernelspec": {
   "display_name": "Python 3 (ipykernel)",
   "language": "python",
   "name": "python3"
  },
  "language_info": {
   "codemirror_mode": {
    "name": "ipython",
    "version": 3
   },
   "file_extension": ".py",
   "mimetype": "text/x-python",
   "name": "python",
   "nbconvert_exporter": "python",
   "pygments_lexer": "ipython3",
   "version": "3.8.12"
  }
 },
 "nbformat": 4,
 "nbformat_minor": 5
}
