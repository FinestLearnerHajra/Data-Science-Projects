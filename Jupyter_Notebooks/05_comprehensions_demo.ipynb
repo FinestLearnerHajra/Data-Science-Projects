{
 "cells": [
  {
   "cell_type": "code",
   "execution_count": null,
   "id": "f9b9628d",
   "metadata": {},
   "outputs": [],
   "source": [
    "'''\n",
    "Motivating Example from slides 32-33:\n",
    "Given a list of elements of different data types,\n",
    "create a new list by extracting and squaring the integers\n",
    "''' "
   ]
  },
  {
   "cell_type": "code",
   "execution_count": 2,
   "id": "b1ad9b62",
   "metadata": {},
   "outputs": [
    {
     "name": "stdout",
     "output_type": "stream",
     "text": [
      "[3, 'Z', 7, -2, '4', 2.53, 'w', '!']\n",
      "[3, 7, -2]\n",
      "[9, 49, 4]\n",
      "[9, 4, 0]\n"
     ]
    }
   ],
   "source": [
    "# Solution 1: using list(), filter() and map() built-in functions: \n",
    "a_list = [3, 'Z', 7, -2, '4', 2.53, 'w', '!']\n",
    "print(a_list)\n",
    "filtered_ints = list(filter(lambda e: type(e) == int, a_list))\n",
    "print(filtered_ints)  # returns [3, 7, -2]\n",
    "\n",
    "modified_ints = list(map(lambda e: e**2, filtered_ints))\n",
    "print(modified_ints)  # returns [9, 49, 4]\n",
    "\n",
    "# combining list(), filter() and map() into one statement:\n",
    "a_list = [3, -2, 0, 7.28, 'C', 'a string', ['a', 'list', 3], ('a', 'tuple')]\n",
    "squared_ints = list(map(lambda e: e**2, filter(lambda e: type(e) == int, a_list)))\n",
    "print(squared_ints)  "
   ]
  },
  {
   "cell_type": "code",
   "execution_count": 3,
   "id": "7b89b38d",
   "metadata": {},
   "outputs": [
    {
     "name": "stdout",
     "output_type": "stream",
     "text": [
      "[9, 4, 0]\n"
     ]
    }
   ],
   "source": [
    "# Solution 2: using list comprehension:\n",
    "squared_ints = [e**2 for e in a_list if type(e) == int]\n",
    "print(squared_ints)  # prints [9, 4, 0]"
   ]
  },
  {
   "cell_type": "code",
   "execution_count": 4,
   "id": "df0779c5",
   "metadata": {},
   "outputs": [
    {
     "name": "stdout",
     "output_type": "stream",
     "text": [
      "[3, 0]\n"
     ]
    }
   ],
   "source": [
    "# slides 36-37\n",
    "# list comprehension with multiple conditions:\n",
    "a_list = [3, -2, 0, 7.28, 'C', 'a string', ['a', 'list', 3], ('a', 'tuple')]\n",
    "# Example 1: extract non-negative integer values from the above list \n",
    "non_negative_ints = [e for e in a_list if type(e) == int and e >= 0]\n",
    "print(non_negative_ints)  # prints [3, 0]"
   ]
  },
  {
   "cell_type": "code",
   "execution_count": 5,
   "id": "5914d64a",
   "metadata": {},
   "outputs": [
    {
     "name": "stdout",
     "output_type": "stream",
     "text": [
      "[-2, 7.28]\n"
     ]
    }
   ],
   "source": [
    "# Example 2: from the above list extract integer or float values \n",
    "#            that are either negative or greater than 5 \n",
    "ints_and_floats_lt_0_and_gt_5 = [e for e in a_list if (type(e) == int or type(e) == float) and (e < 0 or e > 5)]\n",
    "print(ints_and_floats_lt_0_and_gt_5)  # prints [-2, 7.28]"
   ]
  },
  {
   "cell_type": "code",
   "execution_count": 6,
   "id": "1611b9ee",
   "metadata": {},
   "outputs": [
    {
     "name": "stdout",
     "output_type": "stream",
     "text": [
      "{1: 1, 2: 4, 3: 27, 4: 256, 5: 3125}\n"
     ]
    }
   ],
   "source": [
    "# slide 38-40 - dictionary comprehension:\n",
    "# Example 1: dictionary comprehension from a range of integer values\n",
    "power_dict = {num: num**num for num in range(1, 6)}\n",
    "print(power_dict)  # prints {1: 1, 2: 4, 3: 27, 4: 256, 5: 3125}"
   ]
  },
  {
   "cell_type": "code",
   "execution_count": 7,
   "id": "0a410bd5",
   "metadata": {},
   "outputs": [
    {
     "name": "stdout",
     "output_type": "stream",
     "text": [
      "{'milk': 0.86, 'bread': 2.15, 'tea': 1.333}\n"
     ]
    }
   ],
   "source": [
    "# Example 2: dictionary comprehension from a dictionary\n",
    "price_eu = {'milk':1, 'bread':2.5, 'tea':1.55}\n",
    "euro_to_pound = 0.86\n",
    "price_gb = {prod: price*euro_to_pound for (prod, price) in price_eu.items()}\n",
    "print(price_gb)  # prints {'milk': 0.86, 'bread': 2.15, 'tea': 1.333}"
   ]
  },
  {
   "cell_type": "code",
   "execution_count": 8,
   "id": "dc8e7ff2",
   "metadata": {},
   "outputs": [
    {
     "name": "stdout",
     "output_type": "stream",
     "text": [
      "{'paul': 'middle-aged', 'ada': 'young', 'sam': 'minor', 'luna': 'young', 'neil': 'elderly', 'julia': 'middle-aged'}\n"
     ]
    }
   ],
   "source": [
    "# Example 3: dictionary comprehension from a dictionary with a condition\n",
    "ages = {'paul': 47, 'ada': 38, 'sam': 15, 'luna': 22, 'neil':67, 'julia': 55}\n",
    "life_stages = {name: ('minor' if age < 18 else \\\n",
    "                      'young' if age < 40 else \\\n",
    "                      'middle-aged' if age < 65 else 'elderly') \\\n",
    "               for (name, age) in ages.items()}\n",
    "print(life_stages)  # prints {'paul': 'middle-aged', 'ada': 'young', 'sam': 'minor', 'luna': 'young', 'neil': 'elderly', 'julia': 'middle-aged'}"
   ]
  },
  {
   "cell_type": "code",
   "execution_count": 11,
   "id": "d8f5bb5e",
   "metadata": {},
   "outputs": [
    {
     "name": "stdout",
     "output_type": "stream",
     "text": [
      "<generator object <genexpr> at 0x0000023E599ECDD0>\n",
      "1 4 27 256 3125 \n",
      "\n",
      "[1, 4, 27, 256, 3125]\n"
     ]
    }
   ],
   "source": [
    "# slides 42-43 - generator comprehension:\n",
    "power_gen = (num**num for num in range(1, 6))\n",
    "print(power_gen)  # prints <generator object <genexpr> at 0x03F36AB0>\n",
    "\n",
    "# To view the values generated by the generator object you can use a loop:\n",
    "for value in power_gen:\n",
    "    print(value, end=' ')  # prints 1 4 27 256 3125 \n",
    "\n",
    "print()\n",
    "# Once a generator object is used, it becomes empty\n",
    "# Trying to display the values again won’t print anything, \n",
    "# unless you re-create the generator object\n",
    "for value in power_gen:\n",
    "    print(value, end=' ')\n",
    "\n",
    "print()\n",
    "# If needed, we can store the generated values in an iterable, like a list:\n",
    "lst_power_gen = list(num**num for num in range(1, 6))\n",
    "print(lst_power_gen)  # prints [1, 4, 27, 256, 3125]"
   ]
  },
  {
   "cell_type": "code",
   "execution_count": 12,
   "id": "ec12ecbe",
   "metadata": {},
   "outputs": [
    {
     "data": {
      "text/plain": [
       "[-2, 7.28]"
      ]
     },
     "execution_count": 12,
     "metadata": {},
     "output_type": "execute_result"
    }
   ],
   "source": [
    "# slide 44 - Combining lambda function with list comprehension\n",
    "# For example, the solution from slide 37 can be parametrised as follows:\n",
    "ints_and_floats_lt_0_and_gt_5 = \\\n",
    "    lambda prices : [e for e in prices \\\n",
    "                     if (type(e) == int or type(e) == float) and \\\n",
    "                        (e < 0 or e > 5)]\n",
    "\n",
    "# Now we can call this lambda function by passing any list to it as an argument:\n",
    "ints_and_floats_lt_0_and_gt_5(a_list)  # returns [-2, 7.28]"
   ]
  },
  {
   "cell_type": "code",
   "execution_count": 13,
   "id": "1629c206",
   "metadata": {},
   "outputs": [
    {
     "name": "stdout",
     "output_type": "stream",
     "text": [
      "<generator object <lambda>.<locals>.<genexpr> at 0x0000023E599FC120>\n",
      "[-2, 7.28]\n"
     ]
    }
   ],
   "source": [
    "# slide 45 - Combining lambda function with generator comprehension\n",
    "ints_and_floats_lt_0_and_gt_5 = \\\n",
    "    lambda prices : (e for e in prices \\\n",
    "                     if (type(e) == int or type(e) == float) and \\\n",
    "                        (e < 0 or e > 5))\n",
    "\n",
    "# Now we can call this lambda function by passing any list to it as an argument:\n",
    "print(ints_and_floats_lt_0_and_gt_5(a_list))  \n",
    "\n",
    "# This creates a generator, which can be either traversed with a loop, \n",
    "# or saved into a data structure (e.g. a list):\n",
    "list_ints_and_floats_lt_0_and_gt_5 = \\\n",
    "    list(ints_and_floats_lt_0_and_gt_5(a_list))\n",
    "print(list_ints_and_floats_lt_0_and_gt_5)  "
   ]
  }
 ],
 "metadata": {
  "kernelspec": {
   "display_name": "Python 3 (ipykernel)",
   "language": "python",
   "name": "python3"
  },
  "language_info": {
   "codemirror_mode": {
    "name": "ipython",
    "version": 3
   },
   "file_extension": ".py",
   "mimetype": "text/x-python",
   "name": "python",
   "nbconvert_exporter": "python",
   "pygments_lexer": "ipython3",
   "version": "3.8.12"
  }
 },
 "nbformat": 4,
 "nbformat_minor": 5
}
